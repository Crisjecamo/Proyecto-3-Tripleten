{
 "cells": [
  {
   "cell_type": "markdown",
   "id": "3Xg_RQfnafXz",
   "metadata": {
    "id": "3Xg_RQfnafXz"
   },
   "source": [
    "# ¡Llena ese carrito!"
   ]
  },
  {
   "cell_type": "markdown",
   "id": "mhIvmmkW414q",
   "metadata": {
    "id": "mhIvmmkW414q"
   },
   "source": [
    "# Introducción\n",
    "\n",
    "Instacart es una plataforma de entregas de comestibles donde la clientela puede registrar un pedido y hacer que se lo entreguen, similar a Uber Eats y Door Dash.\n",
    "El conjunto de datos que te hemos proporcionado tiene modificaciones del original. Redujimos el tamaño del conjunto para que tus cálculos se hicieran más rápido e introdujimos valores ausentes y duplicados. Tuvimos cuidado de conservar las distribuciones de los datos originales cuando hicimos los cambios.\n",
    "\n",
    "Debes completar tres pasos. Para cada uno de ellos, escribe una breve introducción que refleje con claridad cómo pretendes resolver cada paso, y escribe párrafos explicatorios que justifiquen tus decisiones al tiempo que avanzas en tu solución.  También escribe una conclusión que resuma tus hallazgos y elecciones.\n"
   ]
  },
  {
   "cell_type": "markdown",
   "id": "3MbyzpOQZ5Or",
   "metadata": {
    "id": "3MbyzpOQZ5Or"
   },
   "source": [
    "## Diccionario de datos\n",
    "\n",
    "Hay cinco tablas en el conjunto de datos, y tendrás que usarlas todas para hacer el preprocesamiento de datos y el análisis exploratorio de datos. A continuación se muestra un diccionario de datos que enumera las columnas de cada tabla y describe los datos que contienen.\n",
    "\n",
    "- `instacart_orders.csv`: cada fila corresponde a un pedido en la aplicación Instacart.\n",
    "    - `'order_id'`: número de ID que identifica de manera única cada pedido.\n",
    "    - `'user_id'`: número de ID que identifica de manera única la cuenta de cada cliente.\n",
    "    - `'order_number'`: el número de veces que este cliente ha hecho un pedido.\n",
    "    - `'order_dow'`: día de la semana en que se hizo el pedido (0 si es domingo).\n",
    "    - `'order_hour_of_day'`: hora del día en que se hizo el pedido.\n",
    "    - `'days_since_prior_order'`: número de días transcurridos desde que este cliente hizo su pedido anterior.\n",
    "- `products.csv`: cada fila corresponde a un producto único que pueden comprar los clientes.\n",
    "    - `'product_id'`: número ID que identifica de manera única cada producto.\n",
    "    - `'product_name'`: nombre del producto.\n",
    "    - `'aisle_id'`: número ID que identifica de manera única cada categoría de pasillo de víveres.\n",
    "    - `'department_id'`: número ID que identifica de manera única cada departamento de víveres.\n",
    "- `order_products.csv`: cada fila corresponde a un artículo pedido en un pedido.\n",
    "    - `'order_id'`: número de ID que identifica de manera única cada pedido.\n",
    "    - `'product_id'`: número ID que identifica de manera única cada producto.\n",
    "    - `'add_to_cart_order'`: el orden secuencial en el que se añadió cada artículo en el carrito.\n",
    "    - `'reordered'`: 0 si el cliente nunca ha pedido este producto antes, 1 si lo ha pedido.\n",
    "- `aisles.csv`\n",
    "    - `'aisle_id'`: número ID que identifica de manera única cada categoría de pasillo de víveres.\n",
    "    - `'aisle'`: nombre del pasillo.\n",
    "- `departments.csv`\n",
    "    - `'department_id'`: número ID que identifica de manera única cada departamento de víveres.\n",
    "    - `'department'`: nombre del departamento."
   ]
  },
  {
   "cell_type": "markdown",
   "id": "n3Ha_cNSZ8lK",
   "metadata": {
    "id": "n3Ha_cNSZ8lK"
   },
   "source": [
    "# Paso 1. Descripción de los datos\n",
    "\n",
    "Lee los archivos de datos (`/datasets/instacart_orders.csv`, `/datasets/products.csv`, `/datasets/aisles.csv`, `/datasets/departments.csv` y `/datasets/order_products.csv`) con `pd.read_csv()` usando los parámetros adecuados para leer los datos correctamente. Verifica la información para cada DataFrame creado.\n"
   ]
  },
  {
   "cell_type": "markdown",
   "id": "OmlQPLlyaAfR",
   "metadata": {
    "id": "OmlQPLlyaAfR"
   },
   "source": [
    "## Plan de solución\n",
    "\n",
    "Escribe aquí tu plan de solución para el Paso 1. Descripción de los datos."
   ]
  },
  {
   "cell_type": "code",
   "execution_count": 1,
   "id": "fbf1adab",
   "metadata": {
    "id": "fbf1adab"
   },
   "outputs": [],
   "source": [
    "# importar librerías\n",
    "import pandas as pd\n",
    "import matplotlib.pyplot as plt"
   ]
  },
  {
   "cell_type": "code",
   "execution_count": 2,
   "id": "ad36396d",
   "metadata": {
    "id": "ad36396d"
   },
   "outputs": [],
   "source": [
    "# leer conjuntos de datos en los DataFrames\n",
    "df_orders = pd.read_csv('/datasets/instacart_orders.csv', sep=';') #cada fila corresponde a un pedido en la aplicación Instacart\n",
    "df_products = pd.read_csv('/datasets/products.csv', sep=';') #cada fila corresponde a un producto único que pueden comprar los clientes.\n",
    "df_aisles = pd.read_csv('/datasets/aisles.csv', sep=';') #contiene número ID que identifica de manera única cada categoría de pasillo de víveres. nombre del pasillo.\n",
    "df_departments = pd.read_csv('/datasets/departments.csv', sep=';') #contine número ID que identifica de manera única cada departamento de víveres. nombre del departamento.\n",
    "df_orders_products = pd.read_csv('/datasets/order_products.csv', sep=';') #cada fila corresponde a un artículo pedido en un pedido."
   ]
  },
  {
   "cell_type": "code",
   "execution_count": 3,
   "id": "ad6a1efa",
   "metadata": {
    "id": "ad6a1efa"
   },
   "outputs": [
    {
     "name": "stdout",
     "output_type": "stream",
     "text": [
      "<class 'pandas.core.frame.DataFrame'>\n",
      "RangeIndex: 478967 entries, 0 to 478966\n",
      "Data columns (total 6 columns):\n",
      " #   Column                  Non-Null Count   Dtype  \n",
      "---  ------                  --------------   -----  \n",
      " 0   order_id                478967 non-null  int64  \n",
      " 1   user_id                 478967 non-null  int64  \n",
      " 2   order_number            478967 non-null  int64  \n",
      " 3   order_dow               478967 non-null  int64  \n",
      " 4   order_hour_of_day       478967 non-null  int64  \n",
      " 5   days_since_prior_order  450148 non-null  float64\n",
      "dtypes: float64(1), int64(5)\n",
      "memory usage: 21.9 MB\n",
      "\n"
     ]
    },
    {
     "data": {
      "text/plain": [
       "order_id                      0\n",
       "user_id                       0\n",
       "order_number                  0\n",
       "order_dow                     0\n",
       "order_hour_of_day             0\n",
       "days_since_prior_order    28819\n",
       "dtype: int64"
      ]
     },
     "execution_count": 3,
     "metadata": {},
     "output_type": "execute_result"
    }
   ],
   "source": [
    "# mostrar información del DataFrame\n",
    "df_orders.info()\n",
    "print()\n",
    "df_orders.isna().sum() #Podemos observar que tenemos 28.819 datos ausentes en la columna 'days_since_prior_order'."
   ]
  },
  {
   "cell_type": "code",
   "execution_count": 4,
   "id": "5130e05e",
   "metadata": {
    "id": "5130e05e"
   },
   "outputs": [
    {
     "name": "stdout",
     "output_type": "stream",
     "text": [
      "<class 'pandas.core.frame.DataFrame'>\n",
      "RangeIndex: 49694 entries, 0 to 49693\n",
      "Data columns (total 4 columns):\n",
      " #   Column         Non-Null Count  Dtype \n",
      "---  ------         --------------  ----- \n",
      " 0   product_id     49694 non-null  int64 \n",
      " 1   product_name   48436 non-null  object\n",
      " 2   aisle_id       49694 non-null  int64 \n",
      " 3   department_id  49694 non-null  int64 \n",
      "dtypes: int64(3), object(1)\n",
      "memory usage: 1.5+ MB\n",
      "\n"
     ]
    },
    {
     "data": {
      "text/plain": [
       "product_id          0\n",
       "product_name     1258\n",
       "aisle_id            0\n",
       "department_id       0\n",
       "dtype: int64"
      ]
     },
     "execution_count": 4,
     "metadata": {},
     "output_type": "execute_result"
    }
   ],
   "source": [
    "# mostrar información del DataFrame\n",
    "df_products.info()\n",
    "print()\n",
    "df_products.isna().sum() #Podemos observar que tenemos 1.258 datos ausentes en la columna 'product_name'."
   ]
  },
  {
   "cell_type": "code",
   "execution_count": 5,
   "id": "d8370c05",
   "metadata": {
    "id": "d8370c05"
   },
   "outputs": [
    {
     "name": "stdout",
     "output_type": "stream",
     "text": [
      "<class 'pandas.core.frame.DataFrame'>\n",
      "RangeIndex: 134 entries, 0 to 133\n",
      "Data columns (total 2 columns):\n",
      " #   Column    Non-Null Count  Dtype \n",
      "---  ------    --------------  ----- \n",
      " 0   aisle_id  134 non-null    int64 \n",
      " 1   aisle     134 non-null    object\n",
      "dtypes: int64(1), object(1)\n",
      "memory usage: 2.2+ KB\n",
      "\n"
     ]
    },
    {
     "data": {
      "text/plain": [
       "aisle_id    0\n",
       "aisle       0\n",
       "dtype: int64"
      ]
     },
     "execution_count": 5,
     "metadata": {},
     "output_type": "execute_result"
    }
   ],
   "source": [
    "# mostrar información del DataFrame\n",
    "df_aisles.info()\n",
    "print()\n",
    "df_aisles.isna().sum() #Podemos observar que no tenemos datos ausentes en este DataFrame. "
   ]
  },
  {
   "cell_type": "code",
   "execution_count": 6,
   "id": "59e2090f",
   "metadata": {
    "id": "59e2090f"
   },
   "outputs": [
    {
     "name": "stdout",
     "output_type": "stream",
     "text": [
      "<class 'pandas.core.frame.DataFrame'>\n",
      "RangeIndex: 21 entries, 0 to 20\n",
      "Data columns (total 2 columns):\n",
      " #   Column         Non-Null Count  Dtype \n",
      "---  ------         --------------  ----- \n",
      " 0   department_id  21 non-null     int64 \n",
      " 1   department     21 non-null     object\n",
      "dtypes: int64(1), object(1)\n",
      "memory usage: 464.0+ bytes\n",
      "\n"
     ]
    },
    {
     "data": {
      "text/plain": [
       "department_id    0\n",
       "department       0\n",
       "dtype: int64"
      ]
     },
     "execution_count": 6,
     "metadata": {},
     "output_type": "execute_result"
    }
   ],
   "source": [
    "# mostrar información del DataFrame\n",
    "df_departments.info()\n",
    "print()\n",
    "df_departments.isna().sum() #Podemos observar que no tenemos datos ausentes en este DataFrame."
   ]
  },
  {
   "cell_type": "code",
   "execution_count": 7,
   "id": "6fc81694",
   "metadata": {
    "id": "6fc81694"
   },
   "outputs": [
    {
     "name": "stdout",
     "output_type": "stream",
     "text": [
      "<class 'pandas.core.frame.DataFrame'>\n",
      "RangeIndex: 4545007 entries, 0 to 4545006\n",
      "Data columns (total 4 columns):\n",
      " #   Column             Non-Null Count    Dtype  \n",
      "---  ------             --------------    -----  \n",
      " 0   order_id           4545007 non-null  int64  \n",
      " 1   product_id         4545007 non-null  int64  \n",
      " 2   add_to_cart_order  4544171 non-null  float64\n",
      " 3   reordered          4545007 non-null  int64  \n",
      "dtypes: float64(1), int64(3)\n",
      "memory usage: 138.7 MB\n",
      "\n"
     ]
    },
    {
     "data": {
      "text/plain": [
       "order_id               0\n",
       "product_id             0\n",
       "add_to_cart_order    836\n",
       "reordered              0\n",
       "dtype: int64"
      ]
     },
     "execution_count": 7,
     "metadata": {},
     "output_type": "execute_result"
    }
   ],
   "source": [
    "# mostrar información del DataFrame\n",
    "df_orders_products.info(show_counts=True)\n",
    "print()\n",
    "df_orders_products.isna().sum() #Podemos observar que tenemos 836 datos ausentes en la columna 'add_to_cart_order'."
   ]
  },
  {
   "cell_type": "markdown",
   "id": "t75BD19oaR5f",
   "metadata": {
    "id": "t75BD19oaR5f"
   },
   "source": [
    "## Conclusiones\n",
    "\n",
    "Escribe aquí tus conclusiones intermedias sobre el Paso 1. Descripción de los datos.\n",
    "\n",
    "Cuando mostre la informacion de cada DataFrame me di cuenta que estan completamente desordenados estan separados por ';' se deben realizar las las correcciones con el parametro 'sep=' en el DataFrame\n"
   ]
  },
  {
   "cell_type": "markdown",
   "id": "ff2bf4f5",
   "metadata": {},
   "source": [
    "<div class=\"alert alert-block alert-success\">\n",
    "<b>Comentario del revisor</b> <a class=\"tocSkip\"></a><br />\n",
    "Correcto, buena manera de leer los datos y buenas observaciones iniciales\n",
    "</div>\n"
   ]
  },
  {
   "cell_type": "markdown",
   "id": "8RJHqxVmaVsF",
   "metadata": {
    "id": "8RJHqxVmaVsF"
   },
   "source": [
    "# Paso 2. Preprocesamiento de los datos\n",
    "\n",
    "Preprocesa los datos de la siguiente manera:\n",
    "\n",
    "- Verifica y corrige los tipos de datos (por ejemplo, asegúrate de que las columnas de ID sean números enteros).\n",
    "- Identifica y completa los valores ausentes.\n",
    "- Identifica y elimina los valores duplicados.\n",
    "\n",
    "Asegúrate de explicar qué tipos de valores ausentes y duplicados encontraste, cómo los completaste o eliminaste y por qué usaste esos métodos. ¿Por qué crees que estos valores ausentes y duplicados pueden haber estado presentes en el conjunto de datos?"
   ]
  },
  {
   "cell_type": "markdown",
   "id": "p6poABZQaZYb",
   "metadata": {
    "id": "p6poABZQaZYb"
   },
   "source": [
    "## Plan de solución\n",
    "\n",
    "Escribe aquí tu plan para el Paso 2. Preprocesamiento de los datos."
   ]
  },
  {
   "cell_type": "markdown",
   "id": "07357848-dc64-4156-9cc3-01ff4365226d",
   "metadata": {
    "id": "07357848-dc64-4156-9cc3-01ff4365226d"
   },
   "source": [
    "## Encuentra y elimina los valores duplicados (y describe cómo tomaste tus decisiones)."
   ]
  },
  {
   "cell_type": "markdown",
   "id": "f179f0a9",
   "metadata": {
    "id": "f179f0a9"
   },
   "source": [
    "### `orders` data frame"
   ]
  },
  {
   "cell_type": "code",
   "execution_count": 8,
   "id": "b99297a5-405a-463d-8535-9adc3da4ad74",
   "metadata": {
    "id": "b99297a5-405a-463d-8535-9adc3da4ad74",
    "scrolled": true
   },
   "outputs": [
    {
     "name": "stdout",
     "output_type": "stream",
     "text": [
      "Total de duplicados en nuestro DataFrame:  15\n"
     ]
    }
   ],
   "source": [
    "# Revisa si hay pedidos duplicados\n",
    "print('Total de duplicados en nuestro DataFrame: ', df_orders['order_id'].duplicated().sum()) #Seleccionamos la columna 'order_id' y le aplicamos el metodo 'duplicated()' y 'sum()' para que nos proporcione el total de datos duplicados, ya que es la colummna con datos unicos de cada pedido que realizan los clientes. Por lo cual no deberia tener datos duplicados."
   ]
  },
  {
   "cell_type": "markdown",
   "id": "PEkwUX_gvt5A",
   "metadata": {
    "id": "PEkwUX_gvt5A"
   },
   "source": [
    "¿Tienes líneas duplicadas? Si sí, ¿qué tienen en común?\n",
    "\n",
    "Observamos que existen 15 datos duplicados. por lo cual podemos suponer de que fue un error de la plataforma de pedidos y duplico dichos pedidos o al momentos de registrarse en el dataset se registraron 2 veces. En un caso de la vida real informaria sobre estos datos duplicados ya que se a presentado 15 veces, para que el area encargada verifique la razon de porque la App a duplicado en 15 ocasiones los pedidos. "
   ]
  },
  {
   "cell_type": "code",
   "execution_count": 9,
   "id": "0d44de5d",
   "metadata": {
    "id": "0d44de5d"
   },
   "outputs": [
    {
     "data": {
      "text/plain": [
       "order_id  order_hour_of_day  order_dow\n",
       "2845099   2                  3            2\n",
       "391768    2                  3            2\n",
       "2282673   2                  3            2\n",
       "2232988   2                  3            2\n",
       "1021560   2                  3            2\n",
       "2160484   2                  3            2\n",
       "1112182   2                  3            2\n",
       "2125197   2                  3            2\n",
       "467134    2                  3            2\n",
       "408114    2                  3            2\n",
       "794638    2                  3            2\n",
       "1286742   2                  3            2\n",
       "1782114   2                  3            2\n",
       "1919531   2                  3            2\n",
       "1918001   2                  3            2\n",
       "2291746   2                  3            1\n",
       "dtype: int64"
      ]
     },
     "execution_count": 9,
     "metadata": {},
     "output_type": "execute_result"
    }
   ],
   "source": [
    "# Basándote en tus hallazgos,\n",
    "# Verifica todos los pedidos que se hicieron el miércoles a las 2:00 a.m.\n",
    "filtered_mie_2am= df_orders[(df_orders['order_hour_of_day'] == 2) & (df_orders['order_dow'] == 3)] #filtramos el DataFrame 'df_orders', para que solo nos muestre los datos del dia miercoles a las 2:00am\n",
    "filtered_mie_2am[['order_id', 'order_hour_of_day', 'order_dow']].value_counts().head(16) #Verificamos los datos duplicados en el DataFrame con el metodo 'value_counts', y solo hemos seleccionado las columnas que nos interesan para este analisis.\n"
   ]
  },
  {
   "cell_type": "markdown",
   "id": "vu2OWyoqwOx5",
   "metadata": {
    "id": "vu2OWyoqwOx5"
   },
   "source": [
    "¿Qué sugiere este resultado?\n",
    "Analizando un poco mejor los datos podemos ver que este inconveniente se presento el dia Miercoles a las 2 de la mañana. de igual forma se le informaria al area encargada para que esten al tanto de esto y verifiquen que fue lo que paso."
   ]
  },
  {
   "cell_type": "code",
   "execution_count": 10,
   "id": "480563c7",
   "metadata": {
    "id": "480563c7"
   },
   "outputs": [],
   "source": [
    "# Elimina los pedidos duplicados\n",
    "df_orders= df_orders.drop_duplicates(subset='order_id').reset_index(drop=True) #eliminamos los datos duplicados en este caso en la columna que nos interesa 'order_id', utilizando el parametro 'subset=', en el metodo 'drop_duplicates' y utilizamos el metodo 'reset_index(drop=True)', para acomodar el indice y borrar el anteior, guardamos los cambios en el DataFrame 'df_orders'"
   ]
  },
  {
   "cell_type": "code",
   "execution_count": 11,
   "id": "0b2396a2",
   "metadata": {
    "id": "0b2396a2"
   },
   "outputs": [
    {
     "data": {
      "text/plain": [
       "0"
      ]
     },
     "execution_count": 11,
     "metadata": {},
     "output_type": "execute_result"
    }
   ],
   "source": [
    "# Vuelve a verificar si hay filas duplicadas\n",
    "df_orders.duplicated().sum() #Verificamos que efectivamente los datos duplicados se han eliminado."
   ]
  },
  {
   "cell_type": "code",
   "execution_count": 12,
   "id": "f6113ef1",
   "metadata": {
    "id": "f6113ef1"
   },
   "outputs": [
    {
     "data": {
      "text/plain": [
       "0"
      ]
     },
     "execution_count": 12,
     "metadata": {},
     "output_type": "execute_result"
    }
   ],
   "source": [
    "# Vuelve a verificar únicamente si hay IDs duplicados de pedidos\n",
    "df_orders['order_id'].duplicated().sum() #Verificamos nuevamente pero esta vez directamente en la columna donde estabamos presentando los duplicados 'order_id', efectivamente los datos duplicados se han eliminado."
   ]
  },
  {
   "cell_type": "markdown",
   "id": "5e8905ae",
   "metadata": {
    "id": "5e8905ae"
   },
   "source": [
    "Describe brevemente tus hallazgos y lo que hiciste con ellos\n",
    "\n",
    "Selecione la columna que contenia los datos duplicados y le aplique el metodo para eliminarlos. Por ultimo verifique que los datos duplicados se eliminaron correctamente."
   ]
  },
  {
   "cell_type": "markdown",
   "id": "c3b496aa",
   "metadata": {},
   "source": [
    "<div class=\"alert alert-block alert-success\">\n",
    "<b>Comentario del revisor</b> <a class=\"tocSkip\"></a><br />\n",
    "Correcto, buena manera de encontrar y eliminar las filas duplicadas\n",
    "</div>\n"
   ]
  },
  {
   "cell_type": "markdown",
   "id": "45e6bc46",
   "metadata": {
    "id": "45e6bc46"
   },
   "source": [
    "### `products` data frame"
   ]
  },
  {
   "cell_type": "code",
   "execution_count": 13,
   "id": "5f526b5b-8175-46fa-a0fd-441767d50e64",
   "metadata": {
    "id": "5f526b5b-8175-46fa-a0fd-441767d50e64"
   },
   "outputs": [
    {
     "name": "stdout",
     "output_type": "stream",
     "text": [
      "Total Duplicados:  0\n",
      "\n",
      "       product_id                                       product_name  \\\n",
      "0               1                         Chocolate Sandwich Cookies   \n",
      "1               2                                   All-Seasons Salt   \n",
      "2               3               Robust Golden Unsweetened Oolong Tea   \n",
      "3               4  Smart Ones Classic Favorites Mini Rigatoni Wit...   \n",
      "4               5                          Green Chile Anytime Sauce   \n",
      "...           ...                                                ...   \n",
      "49689       49690                      HIGH PERFORMANCE ENERGY DRINK   \n",
      "49690       49691                      ORIGINAL PANCAKE & WAFFLE MIX   \n",
      "49691       49692    ORGANIC INSTANT OATMEAL LIGHT MAPLE BROWN SUGAR   \n",
      "49692       49693                             SPRING WATER BODY WASH   \n",
      "49693       49694                            BURRITO- STEAK & CHEESE   \n",
      "\n",
      "       aisle_id  department_id  \n",
      "0            61             19  \n",
      "1           104             13  \n",
      "2            94              7  \n",
      "3            38              1  \n",
      "4             5             13  \n",
      "...         ...            ...  \n",
      "49689        64              7  \n",
      "49690       130             14  \n",
      "49691       130             14  \n",
      "49692       127             11  \n",
      "49693        38              1  \n",
      "\n",
      "[49694 rows x 4 columns]\n"
     ]
    }
   ],
   "source": [
    "# Verifica si hay filas totalmente duplicadas\n",
    "print('Total Duplicados: ', df_products.duplicated().sum()) #verificamos si existen duplicados en nuestro DataFrame\n",
    "print()\n",
    "print(df_products) #luego de ver que el dataFrame nos arrojo 0 lo imprimimos para verificar los datos y podemos notar de que existen nombres de productos en mayusculas y minuscula. "
   ]
  },
  {
   "cell_type": "code",
   "execution_count": 14,
   "id": "88daa4f4",
   "metadata": {
    "id": "88daa4f4"
   },
   "outputs": [
    {
     "name": "stdout",
     "output_type": "stream",
     "text": [
      "11    6564\n",
      "19    6264\n",
      "13    5372\n",
      "7     4366\n",
      "1     4008\n",
      "16    3449\n",
      "17    3085\n",
      "15    2092\n",
      "9     1858\n",
      "4     1684\n",
      "3     1516\n",
      "20    1322\n",
      "21    1258\n",
      "6     1139\n",
      "14    1117\n",
      "18    1081\n",
      "5     1054\n",
      "8      972\n",
      "12     907\n",
      "2      548\n",
      "10      38\n",
      "Name: department_id, dtype: int64\n",
      "\n",
      "Cantidad total de duplicados:  49673\n",
      "\n"
     ]
    },
    {
     "data": {
      "text/html": [
       "<div>\n",
       "<style scoped>\n",
       "    .dataframe tbody tr th:only-of-type {\n",
       "        vertical-align: middle;\n",
       "    }\n",
       "\n",
       "    .dataframe tbody tr th {\n",
       "        vertical-align: top;\n",
       "    }\n",
       "\n",
       "    .dataframe thead th {\n",
       "        text-align: right;\n",
       "    }\n",
       "</style>\n",
       "<table border=\"1\" class=\"dataframe\">\n",
       "  <thead>\n",
       "    <tr style=\"text-align: right;\">\n",
       "      <th></th>\n",
       "      <th>product_id</th>\n",
       "      <th>product_name</th>\n",
       "      <th>aisle_id</th>\n",
       "      <th>department_id</th>\n",
       "    </tr>\n",
       "  </thead>\n",
       "  <tbody>\n",
       "    <tr>\n",
       "      <th>5</th>\n",
       "      <td>6</td>\n",
       "      <td>Dry Nose Oil</td>\n",
       "      <td>11</td>\n",
       "      <td>11</td>\n",
       "    </tr>\n",
       "    <tr>\n",
       "      <th>12</th>\n",
       "      <td>13</td>\n",
       "      <td>Saline Nasal Mist</td>\n",
       "      <td>11</td>\n",
       "      <td>11</td>\n",
       "    </tr>\n",
       "    <tr>\n",
       "      <th>21</th>\n",
       "      <td>22</td>\n",
       "      <td>Fresh Breath Oral Rinse Mild Mint</td>\n",
       "      <td>20</td>\n",
       "      <td>11</td>\n",
       "    </tr>\n",
       "    <tr>\n",
       "      <th>23</th>\n",
       "      <td>24</td>\n",
       "      <td>Tri-Vi-Sol® Vitamins A-C-and D Supplement Drop...</td>\n",
       "      <td>47</td>\n",
       "      <td>11</td>\n",
       "    </tr>\n",
       "    <tr>\n",
       "      <th>26</th>\n",
       "      <td>27</td>\n",
       "      <td>Complete Spring Water Foaming Antibacterial Ha...</td>\n",
       "      <td>127</td>\n",
       "      <td>11</td>\n",
       "    </tr>\n",
       "    <tr>\n",
       "      <th>41</th>\n",
       "      <td>42</td>\n",
       "      <td>Biotin 1000 mcg</td>\n",
       "      <td>47</td>\n",
       "      <td>11</td>\n",
       "    </tr>\n",
       "    <tr>\n",
       "      <th>50</th>\n",
       "      <td>51</td>\n",
       "      <td>Sa Extra Hold Mousse Hair Styling</td>\n",
       "      <td>22</td>\n",
       "      <td>11</td>\n",
       "    </tr>\n",
       "    <tr>\n",
       "      <th>54</th>\n",
       "      <td>55</td>\n",
       "      <td>Lasting Color Shampoo</td>\n",
       "      <td>22</td>\n",
       "      <td>11</td>\n",
       "    </tr>\n",
       "    <tr>\n",
       "      <th>74</th>\n",
       "      <td>75</td>\n",
       "      <td>Hemp Protein- Organic</td>\n",
       "      <td>65</td>\n",
       "      <td>11</td>\n",
       "    </tr>\n",
       "    <tr>\n",
       "      <th>87</th>\n",
       "      <td>88</td>\n",
       "      <td>Probiotics High Potency Capsules</td>\n",
       "      <td>47</td>\n",
       "      <td>11</td>\n",
       "    </tr>\n",
       "  </tbody>\n",
       "</table>\n",
       "</div>"
      ],
      "text/plain": [
       "    product_id                                       product_name  aisle_id  \\\n",
       "5            6                                       Dry Nose Oil        11   \n",
       "12          13                                  Saline Nasal Mist        11   \n",
       "21          22                  Fresh Breath Oral Rinse Mild Mint        20   \n",
       "23          24  Tri-Vi-Sol® Vitamins A-C-and D Supplement Drop...        47   \n",
       "26          27  Complete Spring Water Foaming Antibacterial Ha...       127   \n",
       "41          42                                    Biotin 1000 mcg        47   \n",
       "50          51                  Sa Extra Hold Mousse Hair Styling        22   \n",
       "54          55                              Lasting Color Shampoo        22   \n",
       "74          75                              Hemp Protein- Organic        65   \n",
       "87          88                   Probiotics High Potency Capsules        47   \n",
       "\n",
       "    department_id  \n",
       "5              11  \n",
       "12             11  \n",
       "21             11  \n",
       "23             11  \n",
       "26             11  \n",
       "41             11  \n",
       "50             11  \n",
       "54             11  \n",
       "74             11  \n",
       "87             11  "
      ]
     },
     "execution_count": 14,
     "metadata": {},
     "output_type": "execute_result"
    }
   ],
   "source": [
    "# Revisa únicamente si hay ID de departamentos duplicados\n",
    "print(df_products['department_id'].value_counts()) #Se utilizo el metodo 'value_counts', para verificar cuantas veces se repetian los numeros en la columna 'department_id'.\n",
    "print()\n",
    "print('Cantidad total de duplicados: ', df_products['department_id'].duplicated().sum()) #luego sumamos todos los duplicados para que nos de el total existente.\n",
    "print()\n",
    "df_products[df_products['department_id'] == 11].head(10) #Este filtrado lo realice simplemente para corroborrar de que los datos 'Duplicados' son duplicados o simplemente se utilizan en este caso para categorizar cada productos en cada departamento y pasillo"
   ]
  },
  {
   "cell_type": "code",
   "execution_count": 15,
   "id": "c773f0bf",
   "metadata": {
    "id": "c773f0bf",
    "scrolled": true
   },
   "outputs": [
    {
     "name": "stdout",
     "output_type": "stream",
     "text": [
      "Total Duplicados:  1361\n",
      "\n",
      "GREEN TEA WITH GINSENG AND HONEY         3\n",
      "CINNAMON ROLLS WITH ICING                2\n",
      "MEDITERRANEAN SEA SALT                   2\n",
      "CREAM OF MUSHROOM SOUP                   2\n",
      "MOZZARELLA STICKS WITH MARINARA SAUCE    2\n",
      "Name: product_name, dtype: int64\n",
      "\n",
      "       product_id                      product_name  aisle_id  department_id\n",
      "2037         2038  GREEN TEA WITH GINSENG AND HONEY        94              7\n",
      "5455         5456  GREEN TEA WITH GINSENG AND HONEY        96             20\n",
      "19813       19814  GREEN TEA WITH GINSENG AND HONEY        94              7\n"
     ]
    }
   ],
   "source": [
    "# Revisa únicamente si hay nombres duplicados de productos (convierte los nombres a letras mayúsculas para compararlos mejor)\n",
    "df_products['product_name']= df_products['product_name'].str.upper() #convertimos todos los nombres de productos a mayusculas con el metodo 'upper()'\n",
    "print('Total Duplicados: ', df_products['product_name'].duplicated().sum()) #Verificamos nuevamente cuantos duplicados tenemos en los nombres de productos.\n",
    "print()\n",
    "\n",
    "#estos filtados que hice desde aca solo los hice para tener una vision mas clara de los puplicados y los erros que tenian.\n",
    "print(df_products['product_name'].value_counts().head()) #aca simplemente verifique algunos de los nombres de los productos y ver cuantas veces se repetian\n",
    "print()\n",
    "print(df_products[df_products['product_name'] == 'GREEN TEA WITH GINSENG AND HONEY']) #Aca simplemente filtramos unos de los productos del el filtrado obtenido anteriormente, nos podemos dar cuanta que este producto se encuenta 2 veces en un departamento y pasillo y 1 vez en otro.\n"
   ]
  },
  {
   "cell_type": "code",
   "execution_count": 16,
   "id": "01efd02e",
   "metadata": {
    "id": "01efd02e",
    "scrolled": true
   },
   "outputs": [
    {
     "data": {
      "text/plain": [
       "104"
      ]
     },
     "execution_count": 16,
     "metadata": {},
     "output_type": "execute_result"
    }
   ],
   "source": [
    "#Revisa si hay nombres duplicados de productos no faltante.\n",
    "df_products_name= df_products[~df_products['product_name'].isna()] #Aca realizamos el filtrado para que solo nos de los Datos duplicados sin los ausentes.\n",
    "df_products_name['product_name'].duplicated().sum() #Comprobamos la cantidad de nombres duplicados."
   ]
  },
  {
   "cell_type": "markdown",
   "id": "9da8d293",
   "metadata": {
    "id": "9da8d293"
   },
   "source": [
    "Describe brevemente tus hallazgos y lo que hiciste con ellos.\n",
    "\n",
    "Luego del analisis, pudimos observar de que la columna 'department_id' simplemente es categorica al igual que todas las demas, los valores en esta columna no los consideraria como duplicados ya que los valores en esta columna se repiten varias veces en diferentes productos, simplemente para identificar en que departamento se encuentran lo mismo pasa por la columna 'aisle_id' y 'product_name' simplemente se repiten los valores ya que esta especificando de igual forma en que pasillo de cada departamento se encuentra cada producto. en este caso no se consideran como duplicados ya que si se toman como duplicados podriamos perder la mayor parte de la informacion que tenemos. En el caso de los nombres de los productos pudimos notar de que tienen 104 duplicados pero visualizando de mejor manera nuestro datos pudimos ver de que cada nombre tiene un id unico de identificacion y algunos estan es pasillos y departamentos diferente. porque se pueden tomar como variaciones de dicho producto y que se encuentra en varios departamentos y pasillo. En un caso de la vida real le preguntaria al area encargada sobre el porque hay nombres de productos iguales pero con id unicos para cada uno y estan ubicados en diferentes pasillos y departamentos.  "
   ]
  },
  {
   "cell_type": "markdown",
   "id": "842d8235",
   "metadata": {},
   "source": [
    "<div class=\"alert alert-block alert-success\">\n",
    "<b>Comentario del revisor</b> <a class=\"tocSkip\"></a><br />\n",
    "Buena manera de revisar los datos, en este caso hay nombres de productos repetidos, pero al tener distintos IDs podemos suponer que se trata del mismo producto pero de distintas marcas\n",
    "</div>\n"
   ]
  },
  {
   "cell_type": "markdown",
   "id": "60f30db1",
   "metadata": {
    "id": "60f30db1"
   },
   "source": [
    "### `departments` data frame"
   ]
  },
  {
   "cell_type": "code",
   "execution_count": 17,
   "id": "fb410ad4-0fbf-4b80-bb09-23fdea79afe3",
   "metadata": {
    "id": "fb410ad4-0fbf-4b80-bb09-23fdea79afe3"
   },
   "outputs": [
    {
     "name": "stdout",
     "output_type": "stream",
     "text": [
      "Duplicados Totales:  0\n"
     ]
    },
    {
     "data": {
      "text/html": [
       "<div>\n",
       "<style scoped>\n",
       "    .dataframe tbody tr th:only-of-type {\n",
       "        vertical-align: middle;\n",
       "    }\n",
       "\n",
       "    .dataframe tbody tr th {\n",
       "        vertical-align: top;\n",
       "    }\n",
       "\n",
       "    .dataframe thead th {\n",
       "        text-align: right;\n",
       "    }\n",
       "</style>\n",
       "<table border=\"1\" class=\"dataframe\">\n",
       "  <thead>\n",
       "    <tr style=\"text-align: right;\">\n",
       "      <th></th>\n",
       "      <th>department_id</th>\n",
       "      <th>department</th>\n",
       "    </tr>\n",
       "  </thead>\n",
       "  <tbody>\n",
       "    <tr>\n",
       "      <th>0</th>\n",
       "      <td>1</td>\n",
       "      <td>frozen</td>\n",
       "    </tr>\n",
       "    <tr>\n",
       "      <th>1</th>\n",
       "      <td>2</td>\n",
       "      <td>other</td>\n",
       "    </tr>\n",
       "    <tr>\n",
       "      <th>2</th>\n",
       "      <td>3</td>\n",
       "      <td>bakery</td>\n",
       "    </tr>\n",
       "    <tr>\n",
       "      <th>3</th>\n",
       "      <td>4</td>\n",
       "      <td>produce</td>\n",
       "    </tr>\n",
       "    <tr>\n",
       "      <th>4</th>\n",
       "      <td>5</td>\n",
       "      <td>alcohol</td>\n",
       "    </tr>\n",
       "    <tr>\n",
       "      <th>5</th>\n",
       "      <td>6</td>\n",
       "      <td>international</td>\n",
       "    </tr>\n",
       "    <tr>\n",
       "      <th>6</th>\n",
       "      <td>7</td>\n",
       "      <td>beverages</td>\n",
       "    </tr>\n",
       "    <tr>\n",
       "      <th>7</th>\n",
       "      <td>8</td>\n",
       "      <td>pets</td>\n",
       "    </tr>\n",
       "    <tr>\n",
       "      <th>8</th>\n",
       "      <td>9</td>\n",
       "      <td>dry goods pasta</td>\n",
       "    </tr>\n",
       "    <tr>\n",
       "      <th>9</th>\n",
       "      <td>10</td>\n",
       "      <td>bulk</td>\n",
       "    </tr>\n",
       "    <tr>\n",
       "      <th>10</th>\n",
       "      <td>11</td>\n",
       "      <td>personal care</td>\n",
       "    </tr>\n",
       "    <tr>\n",
       "      <th>11</th>\n",
       "      <td>12</td>\n",
       "      <td>meat seafood</td>\n",
       "    </tr>\n",
       "    <tr>\n",
       "      <th>12</th>\n",
       "      <td>13</td>\n",
       "      <td>pantry</td>\n",
       "    </tr>\n",
       "    <tr>\n",
       "      <th>13</th>\n",
       "      <td>14</td>\n",
       "      <td>breakfast</td>\n",
       "    </tr>\n",
       "    <tr>\n",
       "      <th>14</th>\n",
       "      <td>15</td>\n",
       "      <td>canned goods</td>\n",
       "    </tr>\n",
       "    <tr>\n",
       "      <th>15</th>\n",
       "      <td>16</td>\n",
       "      <td>dairy eggs</td>\n",
       "    </tr>\n",
       "    <tr>\n",
       "      <th>16</th>\n",
       "      <td>17</td>\n",
       "      <td>household</td>\n",
       "    </tr>\n",
       "    <tr>\n",
       "      <th>17</th>\n",
       "      <td>18</td>\n",
       "      <td>babies</td>\n",
       "    </tr>\n",
       "    <tr>\n",
       "      <th>18</th>\n",
       "      <td>19</td>\n",
       "      <td>snacks</td>\n",
       "    </tr>\n",
       "    <tr>\n",
       "      <th>19</th>\n",
       "      <td>20</td>\n",
       "      <td>deli</td>\n",
       "    </tr>\n",
       "    <tr>\n",
       "      <th>20</th>\n",
       "      <td>21</td>\n",
       "      <td>missing</td>\n",
       "    </tr>\n",
       "  </tbody>\n",
       "</table>\n",
       "</div>"
      ],
      "text/plain": [
       "    department_id       department\n",
       "0               1           frozen\n",
       "1               2            other\n",
       "2               3           bakery\n",
       "3               4          produce\n",
       "4               5          alcohol\n",
       "5               6    international\n",
       "6               7        beverages\n",
       "7               8             pets\n",
       "8               9  dry goods pasta\n",
       "9              10             bulk\n",
       "10             11    personal care\n",
       "11             12     meat seafood\n",
       "12             13           pantry\n",
       "13             14        breakfast\n",
       "14             15     canned goods\n",
       "15             16       dairy eggs\n",
       "16             17        household\n",
       "17             18           babies\n",
       "18             19           snacks\n",
       "19             20             deli\n",
       "20             21          missing"
      ]
     },
     "execution_count": 17,
     "metadata": {},
     "output_type": "execute_result"
    }
   ],
   "source": [
    "# Revisa si hay filas totalmente duplicadas\n",
    "print('Duplicados Totales: ', df_departments.duplicated().sum()) #Verificamos si existen datos duplicados en el DataFrame.\n",
    "df_departments #Verificamos de igual forma el DataFrame para verificar como estan contemplados los datos en caso de que existan datos con valos en mayuscula y minuscula."
   ]
  },
  {
   "cell_type": "code",
   "execution_count": 18,
   "id": "332b12bb",
   "metadata": {
    "id": "332b12bb"
   },
   "outputs": [
    {
     "data": {
      "text/plain": [
       "0"
      ]
     },
     "execution_count": 18,
     "metadata": {},
     "output_type": "execute_result"
    }
   ],
   "source": [
    "# Revisa únicamente si hay IDs duplicadas de productos\n",
    "df_departments['department_id'].duplicated().sum() #Verificamos si existen valores duplicados en la columna de 'department_id'."
   ]
  },
  {
   "cell_type": "markdown",
   "id": "bd30d78e",
   "metadata": {
    "id": "bd30d78e"
   },
   "source": [
    "Describe brevemente tus hallazgos y lo que hiciste con ellos.\n",
    "\n",
    "Simplemente verifique si existian datos duplicados con el metodo 'Duplicated()' e igual imprimi el DataFrame para echarle un ojo a los datos y verificar alguna irregularidad."
   ]
  },
  {
   "cell_type": "markdown",
   "id": "889349c1",
   "metadata": {
    "id": "889349c1"
   },
   "source": [
    "### `aisles` data frame"
   ]
  },
  {
   "cell_type": "code",
   "execution_count": 19,
   "id": "9da89fb9-4679-40f5-ad0d-c34df753a3f8",
   "metadata": {
    "id": "9da89fb9-4679-40f5-ad0d-c34df753a3f8"
   },
   "outputs": [
    {
     "name": "stdout",
     "output_type": "stream",
     "text": [
      "Duplicados Totales:  0\n"
     ]
    },
    {
     "data": {
      "text/html": [
       "<div>\n",
       "<style scoped>\n",
       "    .dataframe tbody tr th:only-of-type {\n",
       "        vertical-align: middle;\n",
       "    }\n",
       "\n",
       "    .dataframe tbody tr th {\n",
       "        vertical-align: top;\n",
       "    }\n",
       "\n",
       "    .dataframe thead th {\n",
       "        text-align: right;\n",
       "    }\n",
       "</style>\n",
       "<table border=\"1\" class=\"dataframe\">\n",
       "  <thead>\n",
       "    <tr style=\"text-align: right;\">\n",
       "      <th></th>\n",
       "      <th>aisle_id</th>\n",
       "      <th>aisle</th>\n",
       "    </tr>\n",
       "  </thead>\n",
       "  <tbody>\n",
       "    <tr>\n",
       "      <th>0</th>\n",
       "      <td>1</td>\n",
       "      <td>prepared soups salads</td>\n",
       "    </tr>\n",
       "    <tr>\n",
       "      <th>1</th>\n",
       "      <td>2</td>\n",
       "      <td>specialty cheeses</td>\n",
       "    </tr>\n",
       "    <tr>\n",
       "      <th>2</th>\n",
       "      <td>3</td>\n",
       "      <td>energy granola bars</td>\n",
       "    </tr>\n",
       "    <tr>\n",
       "      <th>3</th>\n",
       "      <td>4</td>\n",
       "      <td>instant foods</td>\n",
       "    </tr>\n",
       "    <tr>\n",
       "      <th>4</th>\n",
       "      <td>5</td>\n",
       "      <td>marinades meat preparation</td>\n",
       "    </tr>\n",
       "    <tr>\n",
       "      <th>...</th>\n",
       "      <td>...</td>\n",
       "      <td>...</td>\n",
       "    </tr>\n",
       "    <tr>\n",
       "      <th>129</th>\n",
       "      <td>130</td>\n",
       "      <td>hot cereal pancake mixes</td>\n",
       "    </tr>\n",
       "    <tr>\n",
       "      <th>130</th>\n",
       "      <td>131</td>\n",
       "      <td>dry pasta</td>\n",
       "    </tr>\n",
       "    <tr>\n",
       "      <th>131</th>\n",
       "      <td>132</td>\n",
       "      <td>beauty</td>\n",
       "    </tr>\n",
       "    <tr>\n",
       "      <th>132</th>\n",
       "      <td>133</td>\n",
       "      <td>muscles joints pain relief</td>\n",
       "    </tr>\n",
       "    <tr>\n",
       "      <th>133</th>\n",
       "      <td>134</td>\n",
       "      <td>specialty wines champagnes</td>\n",
       "    </tr>\n",
       "  </tbody>\n",
       "</table>\n",
       "<p>134 rows × 2 columns</p>\n",
       "</div>"
      ],
      "text/plain": [
       "     aisle_id                       aisle\n",
       "0           1       prepared soups salads\n",
       "1           2           specialty cheeses\n",
       "2           3         energy granola bars\n",
       "3           4               instant foods\n",
       "4           5  marinades meat preparation\n",
       "..        ...                         ...\n",
       "129       130    hot cereal pancake mixes\n",
       "130       131                   dry pasta\n",
       "131       132                      beauty\n",
       "132       133  muscles joints pain relief\n",
       "133       134  specialty wines champagnes\n",
       "\n",
       "[134 rows x 2 columns]"
      ]
     },
     "execution_count": 19,
     "metadata": {},
     "output_type": "execute_result"
    }
   ],
   "source": [
    "# Revisa si hay filas totalmente duplicadas\n",
    "print('Duplicados Totales: ', df_aisles.duplicated().sum())\n",
    "df_aisles #Verificamos de igual forma el DataFrame para verificar como estan contemplados los datos en caso de que existan datos con valos en mayuscula y minuscula o otro valor."
   ]
  },
  {
   "cell_type": "code",
   "execution_count": 20,
   "id": "da7c2822",
   "metadata": {
    "id": "da7c2822"
   },
   "outputs": [
    {
     "data": {
      "text/plain": [
       "0"
      ]
     },
     "execution_count": 20,
     "metadata": {},
     "output_type": "execute_result"
    }
   ],
   "source": [
    "# Revisa únicamente si hay IDs duplicadas de productos\n",
    "df_aisles['aisle_id'].duplicated().sum() #Verificamos si existen duplicados en la columna 'aisle_id'."
   ]
  },
  {
   "cell_type": "markdown",
   "id": "ac63826f",
   "metadata": {
    "id": "ac63826f"
   },
   "source": [
    "Describe brevemente tus hallazgos y lo que hiciste con ellos.\n",
    "\n",
    "Simplemente verifique si existian datos duplicados con el metodo 'Duplicated()' e igual imprimi el DataFrame para echarle un ojo a los datos y verificar alguna irregularidad."
   ]
  },
  {
   "cell_type": "markdown",
   "id": "274cd06a",
   "metadata": {
    "id": "274cd06a"
   },
   "source": [
    "### `order_products` data frame"
   ]
  },
  {
   "cell_type": "code",
   "execution_count": 21,
   "id": "52326689-84a8-4b8f-a881-7c68780f62c9",
   "metadata": {
    "id": "52326689-84a8-4b8f-a881-7c68780f62c9"
   },
   "outputs": [
    {
     "name": "stdout",
     "output_type": "stream",
     "text": [
      "Duplicados Totales:  0\n"
     ]
    },
    {
     "data": {
      "text/html": [
       "<div>\n",
       "<style scoped>\n",
       "    .dataframe tbody tr th:only-of-type {\n",
       "        vertical-align: middle;\n",
       "    }\n",
       "\n",
       "    .dataframe tbody tr th {\n",
       "        vertical-align: top;\n",
       "    }\n",
       "\n",
       "    .dataframe thead th {\n",
       "        text-align: right;\n",
       "    }\n",
       "</style>\n",
       "<table border=\"1\" class=\"dataframe\">\n",
       "  <thead>\n",
       "    <tr style=\"text-align: right;\">\n",
       "      <th></th>\n",
       "      <th>order_id</th>\n",
       "      <th>product_id</th>\n",
       "      <th>add_to_cart_order</th>\n",
       "      <th>reordered</th>\n",
       "    </tr>\n",
       "  </thead>\n",
       "  <tbody>\n",
       "    <tr>\n",
       "      <th>0</th>\n",
       "      <td>2141543</td>\n",
       "      <td>11440</td>\n",
       "      <td>17.0</td>\n",
       "      <td>0</td>\n",
       "    </tr>\n",
       "    <tr>\n",
       "      <th>1</th>\n",
       "      <td>567889</td>\n",
       "      <td>1560</td>\n",
       "      <td>1.0</td>\n",
       "      <td>1</td>\n",
       "    </tr>\n",
       "    <tr>\n",
       "      <th>2</th>\n",
       "      <td>2261212</td>\n",
       "      <td>26683</td>\n",
       "      <td>1.0</td>\n",
       "      <td>1</td>\n",
       "    </tr>\n",
       "    <tr>\n",
       "      <th>3</th>\n",
       "      <td>491251</td>\n",
       "      <td>8670</td>\n",
       "      <td>35.0</td>\n",
       "      <td>1</td>\n",
       "    </tr>\n",
       "    <tr>\n",
       "      <th>4</th>\n",
       "      <td>2571142</td>\n",
       "      <td>1940</td>\n",
       "      <td>5.0</td>\n",
       "      <td>1</td>\n",
       "    </tr>\n",
       "    <tr>\n",
       "      <th>...</th>\n",
       "      <td>...</td>\n",
       "      <td>...</td>\n",
       "      <td>...</td>\n",
       "      <td>...</td>\n",
       "    </tr>\n",
       "    <tr>\n",
       "      <th>4545002</th>\n",
       "      <td>577211</td>\n",
       "      <td>15290</td>\n",
       "      <td>12.0</td>\n",
       "      <td>1</td>\n",
       "    </tr>\n",
       "    <tr>\n",
       "      <th>4545003</th>\n",
       "      <td>1219554</td>\n",
       "      <td>21914</td>\n",
       "      <td>9.0</td>\n",
       "      <td>0</td>\n",
       "    </tr>\n",
       "    <tr>\n",
       "      <th>4545004</th>\n",
       "      <td>692640</td>\n",
       "      <td>47766</td>\n",
       "      <td>4.0</td>\n",
       "      <td>1</td>\n",
       "    </tr>\n",
       "    <tr>\n",
       "      <th>4545005</th>\n",
       "      <td>319435</td>\n",
       "      <td>691</td>\n",
       "      <td>8.0</td>\n",
       "      <td>1</td>\n",
       "    </tr>\n",
       "    <tr>\n",
       "      <th>4545006</th>\n",
       "      <td>1398151</td>\n",
       "      <td>28733</td>\n",
       "      <td>9.0</td>\n",
       "      <td>0</td>\n",
       "    </tr>\n",
       "  </tbody>\n",
       "</table>\n",
       "<p>4545007 rows × 4 columns</p>\n",
       "</div>"
      ],
      "text/plain": [
       "         order_id  product_id  add_to_cart_order  reordered\n",
       "0         2141543       11440               17.0          0\n",
       "1          567889        1560                1.0          1\n",
       "2         2261212       26683                1.0          1\n",
       "3          491251        8670               35.0          1\n",
       "4         2571142        1940                5.0          1\n",
       "...           ...         ...                ...        ...\n",
       "4545002    577211       15290               12.0          1\n",
       "4545003   1219554       21914                9.0          0\n",
       "4545004    692640       47766                4.0          1\n",
       "4545005    319435         691                8.0          1\n",
       "4545006   1398151       28733                9.0          0\n",
       "\n",
       "[4545007 rows x 4 columns]"
      ]
     },
     "execution_count": 21,
     "metadata": {},
     "output_type": "execute_result"
    }
   ],
   "source": [
    "# Revisa si hay filas totalmente duplicadas\n",
    "print('Duplicados Totales: ', df_orders_products.duplicated().sum()) \n",
    "df_orders_products"
   ]
  },
  {
   "cell_type": "code",
   "execution_count": 22,
   "id": "7b861391",
   "metadata": {
    "id": "7b861391"
   },
   "outputs": [
    {
     "name": "stdout",
     "output_type": "stream",
     "text": [
      "        order_id  product_id  add_to_cart_order  reordered\n",
      "30114    1959075       42828                NaN          1\n",
      "88193    1959075       11707               19.0          1\n",
      "225286   1959075       18523                5.0          1\n",
      "315382   1959075       32689               39.0          1\n",
      "391656   1959075       39877               41.0          1\n",
      "404753   1959075       45603               59.0          1\n",
      "410035   1959075       43182                NaN          1\n",
      "452071   1959075        8736                NaN          1\n",
      "505426   1959075       47740                NaN          1\n",
      "551504   1959075       15693                NaN          1\n",
      "583941   1959075       11422                NaN          1\n",
      "594007   1959075       29926               63.0          1\n",
      "599014   1959075        9421                7.0          1\n",
      "637315   1959075        7401               48.0          1\n",
      "654572   1959075       40571                NaN          1\n",
      "\n",
      "      order_id  product_id  add_to_cart_order  reordered\n",
      "100     194806       24852                3.0          1\n",
      "109    3176371       24852                1.0          1\n",
      "151    1442232       24852                3.0          1\n",
      "310    1400886       24852                4.0          0\n",
      "362    1926105       24852                3.0          1\n",
      "424    1544211       24852                1.0          1\n",
      "603    1952076       24852                1.0          1\n",
      "647    3302151       24852                7.0          1\n",
      "749    1919544       24852                2.0          0\n",
      "759    1213467       24852                1.0          0\n",
      "823    1955762       24852               14.0          1\n",
      "874    3295996       24852                1.0          1\n",
      "917    2327652       24852                1.0          1\n",
      "981    1341074       24852                4.0          1\n",
      "1037   3240602       24852                1.0          1\n"
     ]
    }
   ],
   "source": [
    "# Vuelve a verificar si hay cualquier otro duplicado engañoso\n",
    "df_orders_products['order_id'].value_counts()\n",
    "print(df_orders_products[df_orders_products['order_id'] == 1959075].head(15)) #Verificamos la columna 'order_id' ya que el metodo value nos arroja datos duplicados.\n",
    "print()\n",
    "df_orders_products['product_id'].value_counts()\n",
    "print(df_orders_products[df_orders_products['product_id'] == 24852].head(15)) #Verificamos la columna 'product_id' ya que el metodo value nos arroja datos duplicados."
   ]
  },
  {
   "cell_type": "markdown",
   "id": "0b890492",
   "metadata": {
    "id": "0b890492"
   },
   "source": [
    "Describe brevemente tus hallazgos y lo que hiciste con ellos.\n",
    "\n",
    "Al visualizar los datos de las columnas 'product_id' y 'order_id' nos pudimos dar cuenta de que nos arroja de que existen datos duplicados pero en realidad ocurre el mismo caso que con los pasillos, los nombres de los productos y los departamentos del DataFrame de productos. no podemos eliminar estos 'Duplicados' ya que en realidad no lo son simplemente son pedidos con los diferentes articulos que fue seleccionando el cliente y nuestro DataFrame los tiene registrados de esta forma. Lo que podriamos hacer aca es agrupar los número de ID que identifica de manera única cada pedido, con los respectivos ID de articulos pedidos o no por este cliente, lo que aun no se es si hacer esto vaya a afectar de alguna manera los resultados o de igual forma no es necesario hacerlo eso lo vere mas adelante, por el momento lo dejare hasta aca. Mas adelante justamente realizamos estas recomendaciones de agrupar que di al final de este texto."
   ]
  },
  {
   "cell_type": "markdown",
   "id": "3b6838e8",
   "metadata": {},
   "source": [
    "<div class=\"alert alert-block alert-success\">\n",
    "<b>Comentario del revisor</b> <a class=\"tocSkip\"></a><br />\n",
    "Correcto, los últimos dataframes no tienen datos duplicados\n",
    "</div>\n"
   ]
  },
  {
   "cell_type": "markdown",
   "id": "1e46de76",
   "metadata": {
    "id": "1e46de76"
   },
   "source": [
    "## Encuentra y elimina los valores ausentes\n",
    "\n",
    "Al trabajar con valores duplicados, pudimos observar que también nos falta investigar valores ausentes:\n",
    "\n",
    "* La columna `'product_name'` de la tabla products.\n",
    "* La columna `'days_since_prior_order'` de la tabla orders.\n",
    "* La columna `'add_to_cart_order'` de la tabla order_productos."
   ]
  },
  {
   "cell_type": "markdown",
   "id": "c0aebd78",
   "metadata": {
    "id": "c0aebd78"
   },
   "source": [
    "### `products` data frame"
   ]
  },
  {
   "cell_type": "code",
   "execution_count": 23,
   "id": "fe4a8b0f",
   "metadata": {
    "id": "fe4a8b0f"
   },
   "outputs": [
    {
     "data": {
      "text/plain": [
       "1258"
      ]
     },
     "execution_count": 23,
     "metadata": {},
     "output_type": "execute_result"
    }
   ],
   "source": [
    "# Encuentra los valores ausentes en la columna 'product_name'\n",
    "df_products['product_name'].isna().sum() #verificamos la suma de cuantos datos ausentes tenemos."
   ]
  },
  {
   "cell_type": "markdown",
   "id": "-A6x1AbJhjkp",
   "metadata": {
    "id": "-A6x1AbJhjkp"
   },
   "source": [
    "Describe brevemente cuáles son tus hallazgos.\n",
    "\n",
    "Al realizar nuestro analisis de productos ausentes podemos notar que tenemos 1258 datos Ausentes. "
   ]
  },
  {
   "cell_type": "code",
   "execution_count": 24,
   "id": "e96167bc",
   "metadata": {
    "id": "e96167bc"
   },
   "outputs": [
    {
     "data": {
      "text/html": [
       "<div>\n",
       "<style scoped>\n",
       "    .dataframe tbody tr th:only-of-type {\n",
       "        vertical-align: middle;\n",
       "    }\n",
       "\n",
       "    .dataframe tbody tr th {\n",
       "        vertical-align: top;\n",
       "    }\n",
       "\n",
       "    .dataframe thead th {\n",
       "        text-align: right;\n",
       "    }\n",
       "</style>\n",
       "<table border=\"1\" class=\"dataframe\">\n",
       "  <thead>\n",
       "    <tr style=\"text-align: right;\">\n",
       "      <th></th>\n",
       "      <th>product_id</th>\n",
       "      <th>product_name</th>\n",
       "      <th>aisle_id</th>\n",
       "      <th>department_id</th>\n",
       "    </tr>\n",
       "  </thead>\n",
       "  <tbody>\n",
       "    <tr>\n",
       "      <th>37</th>\n",
       "      <td>38</td>\n",
       "      <td>NaN</td>\n",
       "      <td>100</td>\n",
       "      <td>21</td>\n",
       "    </tr>\n",
       "    <tr>\n",
       "      <th>71</th>\n",
       "      <td>72</td>\n",
       "      <td>NaN</td>\n",
       "      <td>100</td>\n",
       "      <td>21</td>\n",
       "    </tr>\n",
       "    <tr>\n",
       "      <th>109</th>\n",
       "      <td>110</td>\n",
       "      <td>NaN</td>\n",
       "      <td>100</td>\n",
       "      <td>21</td>\n",
       "    </tr>\n",
       "    <tr>\n",
       "      <th>296</th>\n",
       "      <td>297</td>\n",
       "      <td>NaN</td>\n",
       "      <td>100</td>\n",
       "      <td>21</td>\n",
       "    </tr>\n",
       "    <tr>\n",
       "      <th>416</th>\n",
       "      <td>417</td>\n",
       "      <td>NaN</td>\n",
       "      <td>100</td>\n",
       "      <td>21</td>\n",
       "    </tr>\n",
       "    <tr>\n",
       "      <th>...</th>\n",
       "      <td>...</td>\n",
       "      <td>...</td>\n",
       "      <td>...</td>\n",
       "      <td>...</td>\n",
       "    </tr>\n",
       "    <tr>\n",
       "      <th>49552</th>\n",
       "      <td>49553</td>\n",
       "      <td>NaN</td>\n",
       "      <td>100</td>\n",
       "      <td>21</td>\n",
       "    </tr>\n",
       "    <tr>\n",
       "      <th>49574</th>\n",
       "      <td>49575</td>\n",
       "      <td>NaN</td>\n",
       "      <td>100</td>\n",
       "      <td>21</td>\n",
       "    </tr>\n",
       "    <tr>\n",
       "      <th>49640</th>\n",
       "      <td>49641</td>\n",
       "      <td>NaN</td>\n",
       "      <td>100</td>\n",
       "      <td>21</td>\n",
       "    </tr>\n",
       "    <tr>\n",
       "      <th>49663</th>\n",
       "      <td>49664</td>\n",
       "      <td>NaN</td>\n",
       "      <td>100</td>\n",
       "      <td>21</td>\n",
       "    </tr>\n",
       "    <tr>\n",
       "      <th>49668</th>\n",
       "      <td>49669</td>\n",
       "      <td>NaN</td>\n",
       "      <td>100</td>\n",
       "      <td>21</td>\n",
       "    </tr>\n",
       "  </tbody>\n",
       "</table>\n",
       "<p>1258 rows × 4 columns</p>\n",
       "</div>"
      ],
      "text/plain": [
       "       product_id product_name  aisle_id  department_id\n",
       "37             38          NaN       100             21\n",
       "71             72          NaN       100             21\n",
       "109           110          NaN       100             21\n",
       "296           297          NaN       100             21\n",
       "416           417          NaN       100             21\n",
       "...           ...          ...       ...            ...\n",
       "49552       49553          NaN       100             21\n",
       "49574       49575          NaN       100             21\n",
       "49640       49641          NaN       100             21\n",
       "49663       49664          NaN       100             21\n",
       "49668       49669          NaN       100             21\n",
       "\n",
       "[1258 rows x 4 columns]"
      ]
     },
     "execution_count": 24,
     "metadata": {},
     "output_type": "execute_result"
    }
   ],
   "source": [
    "#  ¿Todos los nombres de productos ausentes están relacionados con el pasillo con ID 100?\n",
    "df_products[(df_products['product_name'].isna()) & (df_products['aisle_id'] == 100)] #Verificamos llamando al DataFrame si efectivamente la mayoria de los datos se encuentran en el pasillo ID 100."
   ]
  },
  {
   "cell_type": "markdown",
   "id": "WRpIfXRphpSL",
   "metadata": {
    "id": "WRpIfXRphpSL"
   },
   "source": [
    "Describe brevemente cuáles son tus hallazgos.\n",
    "\n",
    "Si, estan en el pasillo 100. Efectivamente los 1258 datos estan todos en el pasillo con ID 100."
   ]
  },
  {
   "cell_type": "code",
   "execution_count": 25,
   "id": "8fd0a541",
   "metadata": {
    "id": "8fd0a541"
   },
   "outputs": [
    {
     "data": {
      "text/html": [
       "<div>\n",
       "<style scoped>\n",
       "    .dataframe tbody tr th:only-of-type {\n",
       "        vertical-align: middle;\n",
       "    }\n",
       "\n",
       "    .dataframe tbody tr th {\n",
       "        vertical-align: top;\n",
       "    }\n",
       "\n",
       "    .dataframe thead th {\n",
       "        text-align: right;\n",
       "    }\n",
       "</style>\n",
       "<table border=\"1\" class=\"dataframe\">\n",
       "  <thead>\n",
       "    <tr style=\"text-align: right;\">\n",
       "      <th></th>\n",
       "      <th>product_id</th>\n",
       "      <th>product_name</th>\n",
       "      <th>aisle_id</th>\n",
       "      <th>department_id</th>\n",
       "    </tr>\n",
       "  </thead>\n",
       "  <tbody>\n",
       "    <tr>\n",
       "      <th>37</th>\n",
       "      <td>38</td>\n",
       "      <td>NaN</td>\n",
       "      <td>100</td>\n",
       "      <td>21</td>\n",
       "    </tr>\n",
       "    <tr>\n",
       "      <th>71</th>\n",
       "      <td>72</td>\n",
       "      <td>NaN</td>\n",
       "      <td>100</td>\n",
       "      <td>21</td>\n",
       "    </tr>\n",
       "    <tr>\n",
       "      <th>109</th>\n",
       "      <td>110</td>\n",
       "      <td>NaN</td>\n",
       "      <td>100</td>\n",
       "      <td>21</td>\n",
       "    </tr>\n",
       "    <tr>\n",
       "      <th>296</th>\n",
       "      <td>297</td>\n",
       "      <td>NaN</td>\n",
       "      <td>100</td>\n",
       "      <td>21</td>\n",
       "    </tr>\n",
       "    <tr>\n",
       "      <th>416</th>\n",
       "      <td>417</td>\n",
       "      <td>NaN</td>\n",
       "      <td>100</td>\n",
       "      <td>21</td>\n",
       "    </tr>\n",
       "    <tr>\n",
       "      <th>...</th>\n",
       "      <td>...</td>\n",
       "      <td>...</td>\n",
       "      <td>...</td>\n",
       "      <td>...</td>\n",
       "    </tr>\n",
       "    <tr>\n",
       "      <th>49552</th>\n",
       "      <td>49553</td>\n",
       "      <td>NaN</td>\n",
       "      <td>100</td>\n",
       "      <td>21</td>\n",
       "    </tr>\n",
       "    <tr>\n",
       "      <th>49574</th>\n",
       "      <td>49575</td>\n",
       "      <td>NaN</td>\n",
       "      <td>100</td>\n",
       "      <td>21</td>\n",
       "    </tr>\n",
       "    <tr>\n",
       "      <th>49640</th>\n",
       "      <td>49641</td>\n",
       "      <td>NaN</td>\n",
       "      <td>100</td>\n",
       "      <td>21</td>\n",
       "    </tr>\n",
       "    <tr>\n",
       "      <th>49663</th>\n",
       "      <td>49664</td>\n",
       "      <td>NaN</td>\n",
       "      <td>100</td>\n",
       "      <td>21</td>\n",
       "    </tr>\n",
       "    <tr>\n",
       "      <th>49668</th>\n",
       "      <td>49669</td>\n",
       "      <td>NaN</td>\n",
       "      <td>100</td>\n",
       "      <td>21</td>\n",
       "    </tr>\n",
       "  </tbody>\n",
       "</table>\n",
       "<p>1258 rows × 4 columns</p>\n",
       "</div>"
      ],
      "text/plain": [
       "       product_id product_name  aisle_id  department_id\n",
       "37             38          NaN       100             21\n",
       "71             72          NaN       100             21\n",
       "109           110          NaN       100             21\n",
       "296           297          NaN       100             21\n",
       "416           417          NaN       100             21\n",
       "...           ...          ...       ...            ...\n",
       "49552       49553          NaN       100             21\n",
       "49574       49575          NaN       100             21\n",
       "49640       49641          NaN       100             21\n",
       "49663       49664          NaN       100             21\n",
       "49668       49669          NaN       100             21\n",
       "\n",
       "[1258 rows x 4 columns]"
      ]
     },
     "execution_count": 25,
     "metadata": {},
     "output_type": "execute_result"
    }
   ],
   "source": [
    "# ¿Todos los nombres de productos ausentes están relacionados con el departamento con ID 21?\n",
    "df_products[(df_products['product_name'].isna()) & (df_products['department_id'] == 21)] #Verificamos llamando al DataFrame si efectivamente la mayoria de los datos se encuentran en el Departamento con ID 21."
   ]
  },
  {
   "cell_type": "markdown",
   "id": "qDpdYn1Fht_I",
   "metadata": {
    "id": "qDpdYn1Fht_I"
   },
   "source": [
    "Describe brevemente cuáles son tus hallazgos.\n",
    "\n",
    "Si, esta en el departamento 21. Efectivamente los 1258 datos estan todos en el departamento con ID 21."
   ]
  },
  {
   "cell_type": "code",
   "execution_count": 26,
   "id": "325c3464",
   "metadata": {
    "id": "325c3464"
   },
   "outputs": [
    {
     "data": {
      "text/html": [
       "<div>\n",
       "<style scoped>\n",
       "    .dataframe tbody tr th:only-of-type {\n",
       "        vertical-align: middle;\n",
       "    }\n",
       "\n",
       "    .dataframe tbody tr th {\n",
       "        vertical-align: top;\n",
       "    }\n",
       "\n",
       "    .dataframe thead th {\n",
       "        text-align: right;\n",
       "    }\n",
       "</style>\n",
       "<table border=\"1\" class=\"dataframe\">\n",
       "  <thead>\n",
       "    <tr style=\"text-align: right;\">\n",
       "      <th></th>\n",
       "      <th>product_id</th>\n",
       "      <th>product_name</th>\n",
       "      <th>aisle_id</th>\n",
       "      <th>department_id</th>\n",
       "    </tr>\n",
       "  </thead>\n",
       "  <tbody>\n",
       "    <tr>\n",
       "      <th>37</th>\n",
       "      <td>38</td>\n",
       "      <td>NaN</td>\n",
       "      <td>100</td>\n",
       "      <td>21</td>\n",
       "    </tr>\n",
       "    <tr>\n",
       "      <th>71</th>\n",
       "      <td>72</td>\n",
       "      <td>NaN</td>\n",
       "      <td>100</td>\n",
       "      <td>21</td>\n",
       "    </tr>\n",
       "    <tr>\n",
       "      <th>109</th>\n",
       "      <td>110</td>\n",
       "      <td>NaN</td>\n",
       "      <td>100</td>\n",
       "      <td>21</td>\n",
       "    </tr>\n",
       "    <tr>\n",
       "      <th>296</th>\n",
       "      <td>297</td>\n",
       "      <td>NaN</td>\n",
       "      <td>100</td>\n",
       "      <td>21</td>\n",
       "    </tr>\n",
       "    <tr>\n",
       "      <th>416</th>\n",
       "      <td>417</td>\n",
       "      <td>NaN</td>\n",
       "      <td>100</td>\n",
       "      <td>21</td>\n",
       "    </tr>\n",
       "    <tr>\n",
       "      <th>...</th>\n",
       "      <td>...</td>\n",
       "      <td>...</td>\n",
       "      <td>...</td>\n",
       "      <td>...</td>\n",
       "    </tr>\n",
       "    <tr>\n",
       "      <th>49552</th>\n",
       "      <td>49553</td>\n",
       "      <td>NaN</td>\n",
       "      <td>100</td>\n",
       "      <td>21</td>\n",
       "    </tr>\n",
       "    <tr>\n",
       "      <th>49574</th>\n",
       "      <td>49575</td>\n",
       "      <td>NaN</td>\n",
       "      <td>100</td>\n",
       "      <td>21</td>\n",
       "    </tr>\n",
       "    <tr>\n",
       "      <th>49640</th>\n",
       "      <td>49641</td>\n",
       "      <td>NaN</td>\n",
       "      <td>100</td>\n",
       "      <td>21</td>\n",
       "    </tr>\n",
       "    <tr>\n",
       "      <th>49663</th>\n",
       "      <td>49664</td>\n",
       "      <td>NaN</td>\n",
       "      <td>100</td>\n",
       "      <td>21</td>\n",
       "    </tr>\n",
       "    <tr>\n",
       "      <th>49668</th>\n",
       "      <td>49669</td>\n",
       "      <td>NaN</td>\n",
       "      <td>100</td>\n",
       "      <td>21</td>\n",
       "    </tr>\n",
       "  </tbody>\n",
       "</table>\n",
       "<p>1258 rows × 4 columns</p>\n",
       "</div>"
      ],
      "text/plain": [
       "       product_id product_name  aisle_id  department_id\n",
       "37             38          NaN       100             21\n",
       "71             72          NaN       100             21\n",
       "109           110          NaN       100             21\n",
       "296           297          NaN       100             21\n",
       "416           417          NaN       100             21\n",
       "...           ...          ...       ...            ...\n",
       "49552       49553          NaN       100             21\n",
       "49574       49575          NaN       100             21\n",
       "49640       49641          NaN       100             21\n",
       "49663       49664          NaN       100             21\n",
       "49668       49669          NaN       100             21\n",
       "\n",
       "[1258 rows x 4 columns]"
      ]
     },
     "execution_count": 26,
     "metadata": {},
     "output_type": "execute_result"
    }
   ],
   "source": [
    "# Usa las tablas department y aisle para revisar los datos del pasillo con ID 100 y el departamento con ID 21.\n",
    "df_products[(df_products['aisle_id'] == 100) & (df_products['department_id'] == 21)] #filtramos para revisar unicamente los datos de las columnas 'aisle_id' que sea igual a 100 y la columna 'department_id' que sea igual a 21."
   ]
  },
  {
   "cell_type": "markdown",
   "id": "nqhSTUPhhvEJ",
   "metadata": {
    "id": "nqhSTUPhhvEJ"
   },
   "source": [
    "Describe brevemente cuáles son tus hallazgos.\n",
    "\n",
    "Lo unico que puedo notar es que los 1258 efectivamente son de este departamento y pasillo. y lo otro es que este inconveniente de productos ausentes efectivamente se presento con varios productos del mismo pasillo y departamento. En un caso de la vida real indagariamos mas sobre esto con las personas encargadas."
   ]
  },
  {
   "cell_type": "code",
   "execution_count": 27,
   "id": "6b295120",
   "metadata": {
    "id": "6b295120"
   },
   "outputs": [
    {
     "data": {
      "text/plain": [
       "product_id       0\n",
       "product_name     0\n",
       "aisle_id         0\n",
       "department_id    0\n",
       "dtype: int64"
      ]
     },
     "execution_count": 27,
     "metadata": {},
     "output_type": "execute_result"
    }
   ],
   "source": [
    "# Completa los nombres de productos ausentes con 'Unknown'\n",
    "df_products['product_name'].fillna(value='Unknown', inplace=True) #Realizamos la sustitucion en el Dato ausente.\n",
    "df_products.isna().sum() #Verificamos que efectivamente ya no tenemos datos ausentes."
   ]
  },
  {
   "cell_type": "markdown",
   "id": "fc70e5ad",
   "metadata": {
    "id": "fc70e5ad"
   },
   "source": [
    "Describe brevemente tus hallazgos y lo que hiciste con ellos.\n",
    "\n",
    "Corregimos los datos Ausentes pasandoles el valor Desconocido 'unknown'."
   ]
  },
  {
   "cell_type": "markdown",
   "id": "02ba89f6",
   "metadata": {},
   "source": [
    "<div class=\"alert alert-block alert-success\">\n",
    "<b>Comentario del revisor</b> <a class=\"tocSkip\"></a><br />\n",
    "Correcto, buena manera de encontrar y reemplazar los valores ausentes\n",
    "</div>\n"
   ]
  },
  {
   "cell_type": "markdown",
   "id": "7eb45c86",
   "metadata": {
    "id": "7eb45c86"
   },
   "source": [
    "### `orders` data frame"
   ]
  },
  {
   "cell_type": "code",
   "execution_count": 28,
   "id": "93e41d96",
   "metadata": {
    "id": "93e41d96"
   },
   "outputs": [
    {
     "data": {
      "text/plain": [
       "order_id                      0\n",
       "user_id                       0\n",
       "order_number                  0\n",
       "order_dow                     0\n",
       "order_hour_of_day             0\n",
       "days_since_prior_order    28817\n",
       "dtype: int64"
      ]
     },
     "execution_count": 28,
     "metadata": {},
     "output_type": "execute_result"
    }
   ],
   "source": [
    "# Encuentra los valores ausentes\n",
    "df_orders.isna().sum() #verificamos la suma de cuantos datos ausentes tenemos."
   ]
  },
  {
   "cell_type": "code",
   "execution_count": 29,
   "id": "166e5a86",
   "metadata": {
    "id": "166e5a86"
   },
   "outputs": [
    {
     "data": {
      "text/html": [
       "<div>\n",
       "<style scoped>\n",
       "    .dataframe tbody tr th:only-of-type {\n",
       "        vertical-align: middle;\n",
       "    }\n",
       "\n",
       "    .dataframe tbody tr th {\n",
       "        vertical-align: top;\n",
       "    }\n",
       "\n",
       "    .dataframe thead th {\n",
       "        text-align: right;\n",
       "    }\n",
       "</style>\n",
       "<table border=\"1\" class=\"dataframe\">\n",
       "  <thead>\n",
       "    <tr style=\"text-align: right;\">\n",
       "      <th></th>\n",
       "      <th>order_id</th>\n",
       "      <th>user_id</th>\n",
       "      <th>order_number</th>\n",
       "      <th>order_dow</th>\n",
       "      <th>order_hour_of_day</th>\n",
       "      <th>days_since_prior_order</th>\n",
       "    </tr>\n",
       "  </thead>\n",
       "  <tbody>\n",
       "    <tr>\n",
       "      <th>28</th>\n",
       "      <td>133707</td>\n",
       "      <td>182261</td>\n",
       "      <td>1</td>\n",
       "      <td>3</td>\n",
       "      <td>10</td>\n",
       "      <td>NaN</td>\n",
       "    </tr>\n",
       "    <tr>\n",
       "      <th>96</th>\n",
       "      <td>787445</td>\n",
       "      <td>25685</td>\n",
       "      <td>1</td>\n",
       "      <td>6</td>\n",
       "      <td>18</td>\n",
       "      <td>NaN</td>\n",
       "    </tr>\n",
       "    <tr>\n",
       "      <th>100</th>\n",
       "      <td>294410</td>\n",
       "      <td>111449</td>\n",
       "      <td>1</td>\n",
       "      <td>0</td>\n",
       "      <td>19</td>\n",
       "      <td>NaN</td>\n",
       "    </tr>\n",
       "    <tr>\n",
       "      <th>103</th>\n",
       "      <td>2869915</td>\n",
       "      <td>123958</td>\n",
       "      <td>1</td>\n",
       "      <td>4</td>\n",
       "      <td>16</td>\n",
       "      <td>NaN</td>\n",
       "    </tr>\n",
       "    <tr>\n",
       "      <th>104</th>\n",
       "      <td>2521921</td>\n",
       "      <td>42286</td>\n",
       "      <td>1</td>\n",
       "      <td>3</td>\n",
       "      <td>18</td>\n",
       "      <td>NaN</td>\n",
       "    </tr>\n",
       "    <tr>\n",
       "      <th>...</th>\n",
       "      <td>...</td>\n",
       "      <td>...</td>\n",
       "      <td>...</td>\n",
       "      <td>...</td>\n",
       "      <td>...</td>\n",
       "      <td>...</td>\n",
       "    </tr>\n",
       "    <tr>\n",
       "      <th>478880</th>\n",
       "      <td>2589657</td>\n",
       "      <td>205028</td>\n",
       "      <td>1</td>\n",
       "      <td>0</td>\n",
       "      <td>16</td>\n",
       "      <td>NaN</td>\n",
       "    </tr>\n",
       "    <tr>\n",
       "      <th>478881</th>\n",
       "      <td>2222353</td>\n",
       "      <td>141211</td>\n",
       "      <td>1</td>\n",
       "      <td>2</td>\n",
       "      <td>13</td>\n",
       "      <td>NaN</td>\n",
       "    </tr>\n",
       "    <tr>\n",
       "      <th>478907</th>\n",
       "      <td>2272807</td>\n",
       "      <td>204154</td>\n",
       "      <td>1</td>\n",
       "      <td>1</td>\n",
       "      <td>15</td>\n",
       "      <td>NaN</td>\n",
       "    </tr>\n",
       "    <tr>\n",
       "      <th>478911</th>\n",
       "      <td>2499542</td>\n",
       "      <td>68810</td>\n",
       "      <td>1</td>\n",
       "      <td>4</td>\n",
       "      <td>19</td>\n",
       "      <td>NaN</td>\n",
       "    </tr>\n",
       "    <tr>\n",
       "      <th>478930</th>\n",
       "      <td>1387033</td>\n",
       "      <td>22496</td>\n",
       "      <td>1</td>\n",
       "      <td>5</td>\n",
       "      <td>14</td>\n",
       "      <td>NaN</td>\n",
       "    </tr>\n",
       "  </tbody>\n",
       "</table>\n",
       "<p>28817 rows × 6 columns</p>\n",
       "</div>"
      ],
      "text/plain": [
       "        order_id  user_id  order_number  order_dow  order_hour_of_day  \\\n",
       "28        133707   182261             1          3                 10   \n",
       "96        787445    25685             1          6                 18   \n",
       "100       294410   111449             1          0                 19   \n",
       "103      2869915   123958             1          4                 16   \n",
       "104      2521921    42286             1          3                 18   \n",
       "...          ...      ...           ...        ...                ...   \n",
       "478880   2589657   205028             1          0                 16   \n",
       "478881   2222353   141211             1          2                 13   \n",
       "478907   2272807   204154             1          1                 15   \n",
       "478911   2499542    68810             1          4                 19   \n",
       "478930   1387033    22496             1          5                 14   \n",
       "\n",
       "        days_since_prior_order  \n",
       "28                         NaN  \n",
       "96                         NaN  \n",
       "100                        NaN  \n",
       "103                        NaN  \n",
       "104                        NaN  \n",
       "...                        ...  \n",
       "478880                     NaN  \n",
       "478881                     NaN  \n",
       "478907                     NaN  \n",
       "478911                     NaN  \n",
       "478930                     NaN  \n",
       "\n",
       "[28817 rows x 6 columns]"
      ]
     },
     "execution_count": 29,
     "metadata": {},
     "output_type": "execute_result"
    }
   ],
   "source": [
    "# ¿Hay algún valor ausente que no sea el primer pedido del cliente?\n",
    "df_orders[(df_orders['days_since_prior_order'].isna()) & (df_orders['order_number'] == 1)] #Filtamos para verificar si todos los datos ausentes corresponden al primer pedido del cliente."
   ]
  },
  {
   "cell_type": "code",
   "execution_count": 30,
   "id": "353bbac1",
   "metadata": {},
   "outputs": [
    {
     "data": {
      "text/plain": [
       "order_id                  0\n",
       "user_id                   0\n",
       "order_number              0\n",
       "order_dow                 0\n",
       "order_hour_of_day         0\n",
       "days_since_prior_order    0\n",
       "dtype: int64"
      ]
     },
     "execution_count": 30,
     "metadata": {},
     "output_type": "execute_result"
    }
   ],
   "source": [
    "df_orders['days_since_prior_order'].fillna(value=0, inplace=True) #Realizamos la sustitucion en los Datos ausentes en este caso se que la columna contiene numeros flotantes por esa razon decidi solo sustituir los datos ausentes con un 0.\n",
    "df_orders.isna().sum() #Verificamos que efectivamente ya no tenemos datos ausentes."
   ]
  },
  {
   "cell_type": "markdown",
   "id": "4e23d089",
   "metadata": {
    "id": "4e23d089"
   },
   "source": [
    "Describe brevemente tus hallazgos y lo que hiciste con ellos.\n",
    "\n",
    "Al visualizar los datos ausentes vemos que todos estan en la columna 'days_since_prior_order', al verificar si efectivamente todos los datos ausentes en esta columna tenian relacion con el primer pedido del cliente, nos hemos dado cuenta de que, si, efectivamente los 28.817 datos ausentes tienen que ver con el primer pedido del cliente. por esa razon decidimos sustituir cada valor con un 0 ya que si es el primer pedido de ese cliente han transcurrido 0 dias desde su primer pedido."
   ]
  },
  {
   "cell_type": "markdown",
   "id": "69dc9ca4",
   "metadata": {
    "id": "69dc9ca4"
   },
   "source": [
    "### `order_products` data frame"
   ]
  },
  {
   "cell_type": "code",
   "execution_count": 31,
   "id": "b8240253",
   "metadata": {
    "id": "b8240253"
   },
   "outputs": [
    {
     "data": {
      "text/plain": [
       "order_id               0\n",
       "product_id             0\n",
       "add_to_cart_order    836\n",
       "reordered              0\n",
       "dtype: int64"
      ]
     },
     "execution_count": 31,
     "metadata": {},
     "output_type": "execute_result"
    }
   ],
   "source": [
    "# Encuentra los valores ausentes\n",
    "df_orders_products.isna().sum() #verificamos la suma de cuantos datos ausentes tenemos."
   ]
  },
  {
   "cell_type": "code",
   "execution_count": 32,
   "id": "9a78e5ee",
   "metadata": {
    "id": "9a78e5ee"
   },
   "outputs": [
    {
     "name": "stdout",
     "output_type": "stream",
     "text": [
      "Valor minimo:  1.0\n",
      "Valor maximo:  64.0\n"
     ]
    }
   ],
   "source": [
    "# ¿Cuáles son los valores mínimos y máximos en esta columna?\n",
    "print('Valor minimo: ', df_orders_products['add_to_cart_order'].min()) #obtenemos los valores minimos de la columna\n",
    "print('Valor maximo: ', df_orders_products['add_to_cart_order'].max()) #obtenemos los valores maximos de la columna"
   ]
  },
  {
   "cell_type": "markdown",
   "id": "-Z2Ja215jW78",
   "metadata": {
    "id": "-Z2Ja215jW78"
   },
   "source": [
    "Describe brevemente cuáles son tus hallazgos.\n",
    "\n",
    "Al recibizar cuales son los valores minimos y maximo en la columna que contiene valores ausentes podemos darnos cuenta que su valor minimo es 1 y su valor maximo es 64. "
   ]
  },
  {
   "cell_type": "code",
   "execution_count": 33,
   "id": "ab9d0c2b",
   "metadata": {
    "id": "ab9d0c2b"
   },
   "outputs": [],
   "source": [
    "# Guarda todas las IDs de pedidos que tengan un valor ausente en 'add_to_cart_order'\n",
    "add_to_cart_order= df_orders_products[df_orders_products['order_id'] & df_orders_products['add_to_cart_order'].isna()] #guardamos el filtrado de todos los dautos ausentes en la nueva variable, add_to_cart_order."
   ]
  },
  {
   "cell_type": "code",
   "execution_count": 34,
   "id": "54c31695",
   "metadata": {
    "id": "54c31695"
   },
   "outputs": [
    {
     "name": "stdout",
     "output_type": "stream",
     "text": [
      "Pedidos con valores ausentes: \n",
      "\n",
      "         order_id  product_id  add_to_cart_order  reordered\n",
      "9926      1968313       43867                NaN          0\n",
      "251111    1968313       23995                NaN          1\n",
      "523251    1968313       25824                NaN          0\n",
      "712578    1968313       42625                NaN          0\n",
      "1214262   1968313        9327                NaN          0\n",
      "1244299   1968313       11577                NaN          0\n",
      "1309886   1968313        2541                NaN          0\n",
      "2550341   1968313       28232                NaN          0\n",
      "3217453   1968313       49644                NaN          0\n",
      "3219261   1968313       41302                NaN          0\n",
      "3542553   1968313       48443                NaN          0\n",
      "3719154   1968313       41593                NaN          0\n",
      "3888634   1968313       29382                NaN          0\n",
      "4020321   1968313       23180                NaN          0\n",
      "4376957   1968313        5605                NaN          0\n",
      "4443007   1968313       22497                NaN          0\n",
      "\n",
      "Número de product_id en cada pedido:\n",
      "\n"
     ]
    },
    {
     "data": {
      "text/plain": [
       "2170451    1\n",
       "2621907    1\n",
       "1598369    1\n",
       "1529171    2\n",
       "1308785    2\n",
       "Name: order_id, dtype: int64"
      ]
     },
     "execution_count": 34,
     "metadata": {},
     "output_type": "execute_result"
    }
   ],
   "source": [
    "# ¿Todos los pedidos con valores ausentes tienen más de 64 productos?\n",
    "print('Pedidos con valores ausentes: ')\n",
    "print()\n",
    "print(df_orders_products[(df_orders_products['add_to_cart_order'].isna()) & (df_orders_products['order_id'] == 1968313)]) #Filtramos los datos para verificar en uno de los pedidos 'order_id' cuantos 'product_id' contenia dicha orden de pedido.\n",
    "print()\n",
    "\n",
    "# Agrupa todos los pedidos con datos ausentes por su ID de pedido.\n",
    "add_to_cart_order.groupby('order_id').head(10) #Agrupamos los Datos ausentes por su Id de pedido con 'groupby' y la columna 'order_id'\n",
    "\n",
    "# Cuenta el número de 'product_id' en cada pedido y revisa el valor mínimo del conteo.\n",
    "print('Número de product_id en cada pedido:')\n",
    "print()\n",
    "add_to_cart_order['order_id'].value_counts(ascending=True).head() #Contamos cuantos 'product_id' hay en cada 'orden_id' con 'value_counts' y los ordenamos en orden ascendente. para poder visualizar el valor minimo del conteo."
   ]
  },
  {
   "cell_type": "markdown",
   "id": "p9V6pddtjglj",
   "metadata": {
    "id": "p9V6pddtjglj"
   },
   "source": [
    "Describe brevemente cuáles son tus hallazgos.\n",
    "\n",
    "Agrupamos los datos por 'order_id' y verificamos que el pedido minimo de productos es 1 producto, y el maximo es de 63 productos. no 64 como nos habia arrojado los datos minimo y maximo en primer lugar. lo que pasa es que los datos estaban en tipo float y no int este valor debio haber tenido algo como 63.6 y simplemente al sacar el maximo lo redondeo. De igual forma este dato esta incorrecto dado a que el conteo es por cada producto agregado de 1 en 1. No es correcto ver en este caso que la persona esta agregando 0.6 de un producto."
   ]
  },
  {
   "cell_type": "code",
   "execution_count": 35,
   "id": "7a987d08",
   "metadata": {
    "id": "7a987d08"
   },
   "outputs": [
    {
     "data": {
      "text/html": [
       "<div>\n",
       "<style scoped>\n",
       "    .dataframe tbody tr th:only-of-type {\n",
       "        vertical-align: middle;\n",
       "    }\n",
       "\n",
       "    .dataframe tbody tr th {\n",
       "        vertical-align: top;\n",
       "    }\n",
       "\n",
       "    .dataframe thead th {\n",
       "        text-align: right;\n",
       "    }\n",
       "</style>\n",
       "<table border=\"1\" class=\"dataframe\">\n",
       "  <thead>\n",
       "    <tr style=\"text-align: right;\">\n",
       "      <th></th>\n",
       "      <th>order_id</th>\n",
       "      <th>product_id</th>\n",
       "      <th>add_to_cart_order</th>\n",
       "      <th>reordered</th>\n",
       "    </tr>\n",
       "  </thead>\n",
       "  <tbody>\n",
       "    <tr>\n",
       "      <th>737</th>\n",
       "      <td>2449164</td>\n",
       "      <td>5068</td>\n",
       "      <td>999</td>\n",
       "      <td>0</td>\n",
       "    </tr>\n",
       "    <tr>\n",
       "      <th>9926</th>\n",
       "      <td>1968313</td>\n",
       "      <td>43867</td>\n",
       "      <td>999</td>\n",
       "      <td>0</td>\n",
       "    </tr>\n",
       "    <tr>\n",
       "      <th>14394</th>\n",
       "      <td>2926893</td>\n",
       "      <td>11688</td>\n",
       "      <td>999</td>\n",
       "      <td>0</td>\n",
       "    </tr>\n",
       "    <tr>\n",
       "      <th>16418</th>\n",
       "      <td>1717990</td>\n",
       "      <td>4142</td>\n",
       "      <td>999</td>\n",
       "      <td>0</td>\n",
       "    </tr>\n",
       "    <tr>\n",
       "      <th>30114</th>\n",
       "      <td>1959075</td>\n",
       "      <td>42828</td>\n",
       "      <td>999</td>\n",
       "      <td>1</td>\n",
       "    </tr>\n",
       "    <tr>\n",
       "      <th>...</th>\n",
       "      <td>...</td>\n",
       "      <td>...</td>\n",
       "      <td>...</td>\n",
       "      <td>...</td>\n",
       "    </tr>\n",
       "    <tr>\n",
       "      <th>4505662</th>\n",
       "      <td>1800005</td>\n",
       "      <td>7411</td>\n",
       "      <td>999</td>\n",
       "      <td>0</td>\n",
       "    </tr>\n",
       "    <tr>\n",
       "      <th>4511400</th>\n",
       "      <td>1633337</td>\n",
       "      <td>260</td>\n",
       "      <td>999</td>\n",
       "      <td>0</td>\n",
       "    </tr>\n",
       "    <tr>\n",
       "      <th>4517562</th>\n",
       "      <td>404157</td>\n",
       "      <td>9517</td>\n",
       "      <td>999</td>\n",
       "      <td>0</td>\n",
       "    </tr>\n",
       "    <tr>\n",
       "      <th>4534112</th>\n",
       "      <td>1673227</td>\n",
       "      <td>17835</td>\n",
       "      <td>999</td>\n",
       "      <td>0</td>\n",
       "    </tr>\n",
       "    <tr>\n",
       "      <th>4535739</th>\n",
       "      <td>1832957</td>\n",
       "      <td>17949</td>\n",
       "      <td>999</td>\n",
       "      <td>1</td>\n",
       "    </tr>\n",
       "  </tbody>\n",
       "</table>\n",
       "<p>836 rows × 4 columns</p>\n",
       "</div>"
      ],
      "text/plain": [
       "         order_id  product_id  add_to_cart_order  reordered\n",
       "737       2449164        5068                999          0\n",
       "9926      1968313       43867                999          0\n",
       "14394     2926893       11688                999          0\n",
       "16418     1717990        4142                999          0\n",
       "30114     1959075       42828                999          1\n",
       "...           ...         ...                ...        ...\n",
       "4505662   1800005        7411                999          0\n",
       "4511400   1633337         260                999          0\n",
       "4517562    404157        9517                999          0\n",
       "4534112   1673227       17835                999          0\n",
       "4535739   1832957       17949                999          1\n",
       "\n",
       "[836 rows x 4 columns]"
      ]
     },
     "execution_count": 35,
     "metadata": {},
     "output_type": "execute_result"
    }
   ],
   "source": [
    "# Remplaza los valores ausentes en la columna 'add_to_cart_order' con 999 y convierte la columna al tipo entero.\n",
    "df_orders_products['add_to_cart_order'].fillna(value= 999, inplace=True) #Reemplazamos los valores ausentes con 999 como lo solicitan.\n",
    "df_orders_products['add_to_cart_order'] = df_orders_products['add_to_cart_order'].astype('int') #convertimos la columna de float a int con 'astype'.\n",
    "df_orders_products[df_orders_products['add_to_cart_order'] == 999] #Verificamos que se realizaron los cambios correctamente."
   ]
  },
  {
   "cell_type": "markdown",
   "id": "fea4bcc7",
   "metadata": {
    "id": "fea4bcc7"
   },
   "source": [
    "Describe brevemente tus hallazgos y lo que hiciste con ellos.\n",
    "\n",
    "Reemplazamos los valores ausentes del DataFrame por los valores solicitados en el ejercicio. convertimos la columna de float a int y verificamos de que los valores ausentes se hayan agregado correctamente."
   ]
  },
  {
   "cell_type": "markdown",
   "id": "db2d509d",
   "metadata": {},
   "source": [
    "<div class=\"alert alert-block alert-success\">\n",
    "<b>Comentario del revisor</b> <a class=\"tocSkip\"></a><br />\n",
    "Correcto,  buena manera de reemplazar los valores ausentes\n",
    "</div>\n"
   ]
  },
  {
   "cell_type": "markdown",
   "id": "RnplPFY1gSrb",
   "metadata": {
    "id": "RnplPFY1gSrb"
   },
   "source": [
    "## Conclusiones\n",
    "\n",
    "Escribe aquí tus conclusiones intermedias sobre el Paso 2. Preprocesamiento de los datos\n",
    "\n",
    "Segun los datos que hemos analisado actualmente solo contienen 286 pedidos en la App el pedido minimo es de 1 articulo y el pedido maximo que a realizado un cliente a sido de 63 articulos. hemos reemplazado los datos ausentes y eliminado los duplicados en los DataFrame en el cual al eliminar los duplicados en Dataframe de productos perdimos 2.74% de los datos. ya para este punto tenemos todos los DataFrame corregidos para comenzar con el analisis de los mismos.\n"
   ]
  },
  {
   "cell_type": "markdown",
   "id": "UjrOIwTcz3ri",
   "metadata": {
    "id": "UjrOIwTcz3ri"
   },
   "source": [
    "# Paso 3. Análisis de los datos\n",
    "\n",
    "Una vez los datos estén procesados y listos, haz el siguiente análisis:"
   ]
  },
  {
   "cell_type": "markdown",
   "id": "turkish-kidney",
   "metadata": {
    "id": "turkish-kidney"
   },
   "source": [
    "# [A] Fácil (deben completarse todos para aprobar)\n",
    "\n",
    "1. Verifica que los valores en las columnas `'order_hour_of_day'` y `'order_dow'` en la tabla orders sean razonables (es decir, `'order_hour_of_day'` oscile entre 0 y 23 y `'order_dow'` oscile entre 0 y 6).\n",
    "2. Crea un gráfico que muestre el número de personas que hacen pedidos dependiendo de la hora del día.\n",
    "3. Crea un gráfico que muestre qué día de la semana la gente hace sus compras.\n",
    "4. Crea un gráfico que muestre el tiempo que la gente espera hasta hacer su siguiente pedido, y comenta sobre los valores mínimos y máximos."
   ]
  },
  {
   "cell_type": "markdown",
   "id": "short-capability",
   "metadata": {
    "id": "short-capability"
   },
   "source": [
    "### [A1] Verifica que los valores sean sensibles"
   ]
  },
  {
   "cell_type": "code",
   "execution_count": 36,
   "id": "growing-fruit",
   "metadata": {
    "id": "growing-fruit"
   },
   "outputs": [
    {
     "data": {
      "text/plain": [
       "0      3180\n",
       "1      1763\n",
       "2       989\n",
       "3       770\n",
       "4       765\n",
       "5      1371\n",
       "6      4215\n",
       "7     13043\n",
       "8     25024\n",
       "9     35896\n",
       "10    40578\n",
       "11    40032\n",
       "12    38034\n",
       "13    39007\n",
       "14    39631\n",
       "15    39789\n",
       "16    38112\n",
       "17    31930\n",
       "18    25510\n",
       "19    19547\n",
       "20    14624\n",
       "21    11019\n",
       "22     8512\n",
       "23     5611\n",
       "Name: order_hour_of_day, dtype: int64"
      ]
     },
     "execution_count": 36,
     "metadata": {},
     "output_type": "execute_result"
    }
   ],
   "source": [
    "df_orders['order_hour_of_day'].value_counts(ascending=True).sort_index() #Verificamos los datos de la columna 'order_hour_of_day' para ver si sus datos oscilan entre los valores 0 y 23"
   ]
  },
  {
   "cell_type": "code",
   "execution_count": 37,
   "id": "accessory-malaysia",
   "metadata": {
    "id": "accessory-malaysia"
   },
   "outputs": [
    {
     "data": {
      "text/plain": [
       "0    84090\n",
       "1    82185\n",
       "2    65833\n",
       "3    60897\n",
       "4    59810\n",
       "5    63488\n",
       "6    62649\n",
       "Name: order_dow, dtype: int64"
      ]
     },
     "execution_count": 37,
     "metadata": {},
     "output_type": "execute_result"
    }
   ],
   "source": [
    "df_orders['order_dow'].value_counts(ascending=True).sort_index() #Verificamos los datos de la columna'order_dow' para ver si sus datos oscilan entre los valores 0 y 6"
   ]
  },
  {
   "cell_type": "markdown",
   "id": "hmR2GNQ6lCsX",
   "metadata": {
    "id": "hmR2GNQ6lCsX"
   },
   "source": [
    "Escribe aquí tus conclusiones\n",
    "\n",
    "Efectivamente los datos de cada columna oscila entre los valores correctos."
   ]
  },
  {
   "cell_type": "markdown",
   "id": "2a830942",
   "metadata": {},
   "source": [
    "<div class=\"alert alert-block alert-success\">\n",
    "<b>Comentario del revisor</b> <a class=\"tocSkip\"></a><br />\n",
    "Correcto, buena manera de verificar que sean sensibles, otra forma es buscar los valores únicos en cada una de las columnas en lugar de hacer conteos\n",
    "</div>\n"
   ]
  },
  {
   "cell_type": "markdown",
   "id": "a6743a70",
   "metadata": {
    "id": "a6743a70"
   },
   "source": [
    "### [A2] Para cada hora del día, ¿cuántas personas hacen órdenes?"
   ]
  },
  {
   "cell_type": "code",
   "execution_count": 38,
   "id": "dde6b978",
   "metadata": {
    "id": "a36cca27",
    "scrolled": true
   },
   "outputs": [
    {
     "data": {
      "image/png": "[encoded data removed]",
      "text/plain": [
       "<Figure size 720x288 with 1 Axes>"
      ]
     },
     "metadata": {
      "needs_background": "light"
     },
     "output_type": "display_data"
    }
   ],
   "source": [
    "group_per_hour= df_orders['order_hour_of_day'].value_counts().sort_index() #Agrupamos los datos por las horas con el metodo 'value_counts()'\n",
    "group_per_hour.plot(x='order_hour_of_day', y='user_id', xlim=[0,23], ylabel='Users quantity', xlabel='orders per hour', kind='bar', title='User Orders by Hour', rot=45, figsize=[10, 4], legend=False) #Pasamos los datos agrupados al metodo 'plot()' para realizar nuestra grafica con los datos que necesitamos ver.\n",
    "\n",
    "\n",
    "plt.show()"
   ]
  },
  {
   "cell_type": "markdown",
   "id": "11270eed",
   "metadata": {
    "id": "11270eed"
   },
   "source": [
    "Escribe aquí tus conclusiones\n",
    "\n",
    "La grafica nos muestra que los pedidos de los usuarios se empiezan a generar desde las 7 de la mañana, Hasta las 20 horas (7 de la noche). el la cual podemos evidenciar que la mayor cantidad de pedidos es desde las 10 de la mañana hasta las 16 horas (4 de la tarde). Luego de las 4 de la tarde la cantidad de pedidos empieza a disminuir. "
   ]
  },
  {
   "cell_type": "markdown",
   "id": "9131191e",
   "metadata": {},
   "source": [
    "<div class=\"alert alert-block alert-success\">\n",
    "<b>Comentario del revisor 16/Abril</b> <a class=\"tocSkip\"></a><br />\n",
    "Correcto, buena manera de mostrar los resultados y buenas observaciones\n",
    "\n",
    "</div>\n"
   ]
  },
  {
   "cell_type": "markdown",
   "id": "documented-command",
   "metadata": {
    "id": "documented-command"
   },
   "source": [
    "### [A3] ¿Qué día de la semana compran víveres las personas?"
   ]
  },
  {
   "cell_type": "code",
   "execution_count": 39,
   "id": "chief-digit",
   "metadata": {
    "id": "chief-digit"
   },
   "outputs": [
    {
     "data": {
      "image/png": "[encoded data removed]",
      "text/plain": [
       "<Figure size 720x288 with 1 Axes>"
      ]
     },
     "metadata": {
      "needs_background": "light"
     },
     "output_type": "display_data"
    }
   ],
   "source": [
    "group_per_hour= df_orders['order_dow'].value_counts().sort_index() #Agrupamos los datos por las horas con el metodo 'value_counts()'\n",
    "group_per_hour.plot(x='order_dow', y='user_id', ylabel='Users quantity', xlabel='orders per day', kind='bar', title='User Orders by day', rot=2, figsize=[10, 4], legend=False) #Pasamos los datos agrupados al metodo 'plot()' para realizar nuestra grafica con los datos que necesitamos ver.\n",
    "\n",
    "\n",
    "plt.show()"
   ]
  },
  {
   "cell_type": "markdown",
   "id": "dominant-lightning",
   "metadata": {
    "id": "dominant-lightning"
   },
   "source": [
    "Escribe aquí tus conclusiones\n",
    "\n",
    "Como podemos observar en la grafica, la mayor cantidad de pedidos mas de 80.000 usuarios se realizan los dias Domingos y le siguen los dias Lunes. Los demas dias de Miercoles a Sabado la cantidad de usuarios que realiza pedidos esta por debajo de los 70.000 usuarios."
   ]
  },
  {
   "cell_type": "markdown",
   "id": "1b7c6c89",
   "metadata": {},
   "source": [
    "<div class=\"alert alert-block alert-success\">\n",
    "<b>Comentario del revisor</b> <a class=\"tocSkip\"></a><br />\n",
    "Correcto, los domingos son el día preferido de los clientes\n",
    "\n",
    "</div>\n"
   ]
  },
  {
   "cell_type": "markdown",
   "id": "cutting-concert",
   "metadata": {
    "id": "cutting-concert"
   },
   "source": [
    "### [A4] ¿Cuánto tiempo esperan las personas hasta hacer otro pedido? Comenta sobre los valores mínimos y máximos."
   ]
  },
  {
   "cell_type": "code",
   "execution_count": 41,
   "id": "c231f523",
   "metadata": {
    "id": "c231f523"
   },
   "outputs": [
    {
     "data": {
      "image/png": "[encoded data removed]",
      "text/plain": [
       "<Figure size 720x360 with 1 Axes>"
      ]
     },
     "metadata": {
      "needs_background": "light"
     },
     "output_type": "display_data"
    }
   ],
   "source": [
    "group_per_hour= df_orders['days_since_prior_order'].value_counts().sort_index() #Agrupamos los datos por las horas con el metodo 'value_counts()'\n",
    "group_per_hour.plot(x='days_since_prior_order', y='user_id', kind='bar', ylabel='Users quantity', xlabel='Days', title='Time it takes to place a new order', rot=45, figsize=[10, 5], legend=False, grid=True) #Pasamos los datos agrupados al metodo 'plot()' para realizar nuestra grafica con los datos que necesitamos ver.\n",
    "\n",
    "\n",
    "plt.show()"
   ]
  },
  {
   "cell_type": "markdown",
   "id": "discrete-vertex",
   "metadata": {
    "id": "discrete-vertex"
   },
   "source": [
    "Escribe aquí tus conclusiones\n",
    "\n",
    "En nuestro grafico obviaremos la columna con valor 0 ya que dicha columna simplemente representa a todos los clientes que realizan su primer pedido en la App. Analizaremos la graficar a partir del dia 1 en adelante.\n",
    "\n",
    "### Conclusion:\n",
    "\n",
    "Podemos observar en nuestra grafica que luego de la primera compra los clientes vuelven a comprar los 7 dias posteriores a su primera compra, evidenciandose una mayor cantidad de pedidos al 7mo dia, luego del dia numero 7 se puede evidencias una caida constante de pedidos en la App hasta el dia 29, luego de trancurrido esos 22 dias de bajos pedidos en la App podemos evidencias una gran cantidad de pedidos al dia 30 de mas de 50.000 clientes.  "
   ]
  },
  {
   "cell_type": "markdown",
   "id": "dc744b0d",
   "metadata": {},
   "source": [
    "<div class=\"alert alert-block alert-success\">\n",
    "<b>Comentario del revisor</b> <a class=\"tocSkip\"></a><br />\n",
    "Los resultados son correctos\n",
    "<br />\n",
    "Hasta este punto no podemos saber si realmente los usuarios esperan 30 días para realizar otra compra o es el sistema el que agrupa todas las compras que sean mayores a 30 días en el día 30. Con la gráfica podemos observar que la mayoría de usuarios se concentra entre 1 y 9 días donde después los números descienden gradualmente\n",
    "</div>\n"
   ]
  },
  {
   "cell_type": "markdown",
   "id": "tight-staff",
   "metadata": {
    "id": "tight-staff"
   },
   "source": [
    "# [B] Intermedio (deben completarse todos para aprobar)\n",
    "\n",
    "1. ¿Existe alguna diferencia entre las distribuciones `'order_hour_of_day'` de los miércoles y los sábados? Traza gráficos de barra de `'order_hour_of_day'` para ambos días en la misma figura y describe las diferencias que observes.\n",
    "2. Grafica la distribución para el número de órdenes que hacen los clientes (es decir, cuántos clientes hicieron solo 1 pedido, cuántos hicieron 2, cuántos 3, y así sucesivamente...).\n",
    "3. ¿Cuáles son los 20 principales productos que se piden con más frecuencia (muestra su identificación y nombre)?"
   ]
  },
  {
   "cell_type": "markdown",
   "id": "packed-classic",
   "metadata": {
    "id": "packed-classic"
   },
   "source": [
    "### [B1] Diferencia entre miércoles y sábados para  `'order_hour_of_day'`. Traza gráficos de barra para los dos días y describe las diferencias que veas."
   ]
  },
  {
   "cell_type": "code",
   "execution_count": 42,
   "id": "d89b8403",
   "metadata": {
    "id": "d89b8403"
   },
   "outputs": [],
   "source": [
    "order_hour_of_wednesday= df_orders[df_orders['order_dow']== 3] #Filtramos las pedidos por el dia 3 (Miercoles)\n",
    "order_hour_of_saturday= df_orders[df_orders['order_dow']== 6] #Filtramos las pedidos por el dia 6 (Sabado)\n",
    "group_wednesday= order_hour_of_wednesday['order_hour_of_day'].value_counts().sort_index() #Agrupamos los datos por las horas con el metodo 'value_counts()'\n",
    "group_saturday= order_hour_of_saturday['order_hour_of_day'].value_counts().sort_index() #Agrupamos los datos por las horas con el metodo 'value_counts()'\n",
    "group_days = pd.concat([group_wednesday.rename('wednesday'), group_saturday.rename('Saturday')], axis='columns') #Unimos todos los 2 DataFrames que creamos con el metodo 'concat()' para tener todos los datos de los 2 dias en un solo grafico."
   ]
  },
  {
   "cell_type": "code",
   "execution_count": 43,
   "id": "797c90a8",
   "metadata": {
    "id": "797c90a8"
   },
   "outputs": [
    {
     "data": {
      "image/png": "[encoded data removed]",
      "text/plain": [
       "<Figure size 720x360 with 1 Axes>"
      ]
     },
     "metadata": {
      "needs_background": "light"
     },
     "output_type": "display_data"
    }
   ],
   "source": [
    "group_days.plot(kind='bar', ylabel='Orders', xlabel='Hours', title='Differences between Wednesday and Saturday', rot=5, figsize=[10, 5]) #Creamos nuestro grafico de barras con los datos unidos.\n",
    "\n",
    "\n",
    "plt.show()"
   ]
  },
  {
   "cell_type": "markdown",
   "id": "charitable-congo",
   "metadata": {
    "id": "charitable-congo"
   },
   "source": [
    "Escribe aquí tus conclusiones\n",
    "\n",
    "Las Diferencias que puedo notar es que hay mas pedidos los dias Sabados que los dias Miercoles, de igual manera los pedidos se empiezan a generar a partir de las 7 de la mañana siendo las 13 (1 de la tarde) y 14 (2 de la tarde) las horas con mayores pedidos del dia Sabado, en cambio las horas con mayores pedidos los dias domingo son a las 10, 11 de la mañana y a las 15 horas (3 de la tarde). "
   ]
  },
  {
   "cell_type": "markdown",
   "id": "a1aaf274",
   "metadata": {},
   "source": [
    "<div class=\"alert alert-block alert-success\">\n",
    "<b>Comentario del revisor 16/Abril</b> <a class=\"tocSkip\"></a><br />\n",
    "Correcto, buena manera de combinar ambos días en la misma gráfica, buenas observaciones\n",
    "</div>\n",
    "\n"
   ]
  },
  {
   "cell_type": "markdown",
   "id": "e3891143",
   "metadata": {
    "id": "e3891143"
   },
   "source": [
    "### [B2] ¿Cuál es la distribución para el número de pedidos por cliente?"
   ]
  },
  {
   "cell_type": "code",
   "execution_count": 44,
   "id": "d8c26c23",
   "metadata": {
    "id": "d8c26c23"
   },
   "outputs": [],
   "source": [
    "group_order_number= df_orders['order_number'].value_counts().sort_index() #Agrupamos los datos por el numero de orden con el metodo 'value_counts()'"
   ]
  },
  {
   "cell_type": "code",
   "execution_count": 45,
   "id": "00e69a66",
   "metadata": {
    "id": "00e69a66"
   },
   "outputs": [
    {
     "data": {
      "image/png": "[encoded data removed]",
      "text/plain": [
       "<Figure size 1440x576 with 1 Axes>"
      ]
     },
     "metadata": {
      "needs_background": "light"
     },
     "output_type": "display_data"
    }
   ],
   "source": [
    "group_order_number.plot(x='order_number', y='user_id', kind='bar', ylabel='Users', xlabel='Orders', title='Number of orders placed by customers', rot=70, figsize=[20, 8], legend=False) #Pasamos los datos agrupados al metodo 'plot()' para realizar nuestra grafica con los datos que necesitamos ver.\n",
    "\n",
    "plt.show()"
   ]
  },
  {
   "cell_type": "markdown",
   "id": "d2eff7d5",
   "metadata": {
    "id": "d2eff7d5"
   },
   "source": [
    "Escribe aquí tus conclusiones\n",
    "\n",
    "Podemos evidenciar una decaidad en las ordenes de los clientes a partir de la 4ta orden, por lo que puede ser un indicio de que los clientes despues de su 4to pedido empiezan a dejar de comprar en la App, o puede ser tambien que los datos que tenemos la mayoria de los clientes son relativamente recientes, por lo cual se tendria que realizar un nuevo estudio mas adelante para ver si los datos han cambiado en la cantidad de pedidos de los clientes."
   ]
  },
  {
   "cell_type": "markdown",
   "id": "63c10447",
   "metadata": {},
   "source": [
    "<div class=\"alert alert-block alert-success\">\n",
    "<b>Comentario del revisor</b> <a class=\"tocSkip\"></a><br />\n",
    "Correcto, buena manera de mostrar los resultados, los usuarios no tienen tantos pedidos, esto nos ayudaría a encontrar una manera de tratar de hacer que compren más seguido\n",
    "</div>\n"
   ]
  },
  {
   "cell_type": "markdown",
   "id": "54a0319c",
   "metadata": {
    "id": "54a0319c"
   },
   "source": [
    "### [B3] ¿Cuáles son los 20 productos más populares (muestra su ID y nombre)?"
   ]
  },
  {
   "cell_type": "code",
   "execution_count": 46,
   "id": "exterior-arizona",
   "metadata": {
    "id": "exterior-arizona",
    "scrolled": true
   },
   "outputs": [],
   "source": [
    "popular_products= df_orders_products.merge(df_products, on='product_id', how='outer') #Agrupamos los DataFrame 'df_orders_products', 'df_products' con el metodo 'merge()'."
   ]
  },
  {
   "cell_type": "code",
   "execution_count": 47,
   "id": "universal-facial",
   "metadata": {
    "id": "universal-facial"
   },
   "outputs": [],
   "source": [
    "filtered_popular_products= popular_products[['product_id', 'product_name', 'add_to_cart_order']] #Filtramos el nuevo DataFrame para que solo aparezcan las columnas que nos interesan.  "
   ]
  },
  {
   "cell_type": "code",
   "execution_count": 48,
   "id": "bbcdd20b",
   "metadata": {
    "id": "bbcdd20b"
   },
   "outputs": [
    {
     "data": {
      "text/plain": [
       "product_id  product_name            \n",
       "24852       BANANA                      66050\n",
       "13176       BAG OF ORGANIC BANANAS      53297\n",
       "21137       ORGANIC STRAWBERRIES        37039\n",
       "21903       ORGANIC BABY SPINACH        33971\n",
       "47209       ORGANIC HASS AVOCADO        29773\n",
       "47766       ORGANIC AVOCADO             24689\n",
       "47626       LARGE LEMON                 21495\n",
       "16797       STRAWBERRIES                20018\n",
       "26209       LIMES                       19690\n",
       "27845       ORGANIC WHOLE MILK          19600\n",
       "27966       ORGANIC RASPBERRIES         19197\n",
       "22935       ORGANIC YELLOW ONION        15898\n",
       "24964       ORGANIC GARLIC              15292\n",
       "45007       ORGANIC ZUCCHINI            14584\n",
       "39275       ORGANIC BLUEBERRIES         13879\n",
       "49683       CUCUMBER KIRBY              13675\n",
       "28204       ORGANIC FUJI APPLE          12544\n",
       "5876        ORGANIC LEMON               12232\n",
       "8277        APPLE HONEYCRISP ORGANIC    11993\n",
       "40706       ORGANIC GRAPE TOMATOES      11781\n",
       "dtype: int64"
      ]
     },
     "execution_count": 48,
     "metadata": {},
     "output_type": "execute_result"
    }
   ],
   "source": [
    "filtered_popular_products.groupby('add_to_cart_order') #Agrupamos todo el DataFrame por la columna add_to_cart_order'\n",
    "filtered_popular_products[['product_id', 'product_name']].value_counts().head(20) #Imprimimos solo 20 productos con el metodo 'head()' y le agregamos el metodo 'Value_counts()' para que nos agrupe los productos con sus id y nos muestre los productos mas populares en la App."
   ]
  },
  {
   "cell_type": "markdown",
   "id": "7df00f47",
   "metadata": {
    "id": "7df00f47"
   },
   "source": [
    "Escribe aquí tus conclusiones\n",
    "\n",
    "Como podemos ver el producto mas popular son las Bananas tambien otras frutas, y a simple viste podemos notar que son la mayoria de los productos organicos."
   ]
  },
  {
   "cell_type": "markdown",
   "id": "69caac31",
   "metadata": {},
   "source": [
    "<div class=\"alert alert-block alert-success\">\n",
    "<b>Comentario del revisor</b> <a class=\"tocSkip\"></a><br />\n",
    "Correcto, los usuarios tienden a comprar productos orgánicos\n",
    "</div>\n",
    "\n"
   ]
  },
  {
   "cell_type": "markdown",
   "id": "gross-theme",
   "metadata": {
    "id": "gross-theme"
   },
   "source": [
    "# [C] Difícil (deben completarse todos para aprobar)\n",
    "\n",
    "1. ¿Cuántos artículos suelen comprar las personas en un pedido? ¿Cómo es la distribución?\n",
    "2. ¿Cuáles son los 20 principales artículos que vuelven a pedirse con mayor frecuencia (muestra sus nombres e IDs de los productos)?\n",
    "3. Para cada producto, ¿cuál es la tasa de repetición del pedido (número de repeticiones de pedido/total de pedidos?\n",
    "4. Para cada cliente, ¿qué proporción de los productos que pidió ya los había pedido? Calcula la tasa de repetición de pedido para cada usuario en lugar de para cada producto.\n",
    "5. ¿Cuáles son los 20 principales artículos que la gente pone primero en sus carritos (muestra las IDs de los productos, sus nombres, y el número de veces en que fueron el primer artículo en añadirse al carrito)?"
   ]
  },
  {
   "cell_type": "markdown",
   "id": "romantic-deposit",
   "metadata": {
    "id": "romantic-deposit"
   },
   "source": [
    "### [C1] ¿Cuántos artículos compran normalmente las personas en un pedido? ¿Cómo es la distribución?"
   ]
  },
  {
   "cell_type": "code",
   "execution_count": 49,
   "id": "virtual-punch",
   "metadata": {
    "id": "virtual-punch"
   },
   "outputs": [],
   "source": [
    "quantity_per_order= df_orders_products.merge(df_orders, on='order_id', how='outer') #Agrupamos los DataFrame 'df_orders_products', 'df_orders' con el metodo 'merge()'."
   ]
  },
  {
   "cell_type": "code",
   "execution_count": 50,
   "id": "sensitive-breathing",
   "metadata": {
    "id": "sensitive-breathing"
   },
   "outputs": [
    {
     "data": {
      "text/html": [
       "<div>\n",
       "<style scoped>\n",
       "    .dataframe tbody tr th:only-of-type {\n",
       "        vertical-align: middle;\n",
       "    }\n",
       "\n",
       "    .dataframe tbody tr th {\n",
       "        vertical-align: top;\n",
       "    }\n",
       "\n",
       "    .dataframe thead th {\n",
       "        text-align: right;\n",
       "    }\n",
       "</style>\n",
       "<table border=\"1\" class=\"dataframe\">\n",
       "  <thead>\n",
       "    <tr style=\"text-align: right;\">\n",
       "      <th></th>\n",
       "      <th>add_to_cart_order</th>\n",
       "      <th>user_id</th>\n",
       "      <th>order_id</th>\n",
       "      <th>order_number</th>\n",
       "    </tr>\n",
       "  </thead>\n",
       "  <tbody>\n",
       "    <tr>\n",
       "      <th>0</th>\n",
       "      <td>17.0</td>\n",
       "      <td>58454</td>\n",
       "      <td>2141543</td>\n",
       "      <td>25</td>\n",
       "    </tr>\n",
       "    <tr>\n",
       "      <th>1</th>\n",
       "      <td>15.0</td>\n",
       "      <td>58454</td>\n",
       "      <td>2141543</td>\n",
       "      <td>25</td>\n",
       "    </tr>\n",
       "    <tr>\n",
       "      <th>2</th>\n",
       "      <td>9.0</td>\n",
       "      <td>58454</td>\n",
       "      <td>2141543</td>\n",
       "      <td>25</td>\n",
       "    </tr>\n",
       "    <tr>\n",
       "      <th>3</th>\n",
       "      <td>20.0</td>\n",
       "      <td>58454</td>\n",
       "      <td>2141543</td>\n",
       "      <td>25</td>\n",
       "    </tr>\n",
       "    <tr>\n",
       "      <th>4</th>\n",
       "      <td>2.0</td>\n",
       "      <td>58454</td>\n",
       "      <td>2141543</td>\n",
       "      <td>25</td>\n",
       "    </tr>\n",
       "    <tr>\n",
       "      <th>5</th>\n",
       "      <td>18.0</td>\n",
       "      <td>58454</td>\n",
       "      <td>2141543</td>\n",
       "      <td>25</td>\n",
       "    </tr>\n",
       "    <tr>\n",
       "      <th>6</th>\n",
       "      <td>14.0</td>\n",
       "      <td>58454</td>\n",
       "      <td>2141543</td>\n",
       "      <td>25</td>\n",
       "    </tr>\n",
       "    <tr>\n",
       "      <th>7</th>\n",
       "      <td>12.0</td>\n",
       "      <td>58454</td>\n",
       "      <td>2141543</td>\n",
       "      <td>25</td>\n",
       "    </tr>\n",
       "    <tr>\n",
       "      <th>8</th>\n",
       "      <td>8.0</td>\n",
       "      <td>58454</td>\n",
       "      <td>2141543</td>\n",
       "      <td>25</td>\n",
       "    </tr>\n",
       "    <tr>\n",
       "      <th>9</th>\n",
       "      <td>5.0</td>\n",
       "      <td>58454</td>\n",
       "      <td>2141543</td>\n",
       "      <td>25</td>\n",
       "    </tr>\n",
       "    <tr>\n",
       "      <th>10</th>\n",
       "      <td>4.0</td>\n",
       "      <td>58454</td>\n",
       "      <td>2141543</td>\n",
       "      <td>25</td>\n",
       "    </tr>\n",
       "    <tr>\n",
       "      <th>11</th>\n",
       "      <td>11.0</td>\n",
       "      <td>58454</td>\n",
       "      <td>2141543</td>\n",
       "      <td>25</td>\n",
       "    </tr>\n",
       "    <tr>\n",
       "      <th>12</th>\n",
       "      <td>19.0</td>\n",
       "      <td>58454</td>\n",
       "      <td>2141543</td>\n",
       "      <td>25</td>\n",
       "    </tr>\n",
       "    <tr>\n",
       "      <th>13</th>\n",
       "      <td>7.0</td>\n",
       "      <td>58454</td>\n",
       "      <td>2141543</td>\n",
       "      <td>25</td>\n",
       "    </tr>\n",
       "    <tr>\n",
       "      <th>14</th>\n",
       "      <td>1.0</td>\n",
       "      <td>58454</td>\n",
       "      <td>2141543</td>\n",
       "      <td>25</td>\n",
       "    </tr>\n",
       "    <tr>\n",
       "      <th>15</th>\n",
       "      <td>3.0</td>\n",
       "      <td>58454</td>\n",
       "      <td>2141543</td>\n",
       "      <td>25</td>\n",
       "    </tr>\n",
       "    <tr>\n",
       "      <th>16</th>\n",
       "      <td>6.0</td>\n",
       "      <td>58454</td>\n",
       "      <td>2141543</td>\n",
       "      <td>25</td>\n",
       "    </tr>\n",
       "    <tr>\n",
       "      <th>17</th>\n",
       "      <td>13.0</td>\n",
       "      <td>58454</td>\n",
       "      <td>2141543</td>\n",
       "      <td>25</td>\n",
       "    </tr>\n",
       "    <tr>\n",
       "      <th>18</th>\n",
       "      <td>10.0</td>\n",
       "      <td>58454</td>\n",
       "      <td>2141543</td>\n",
       "      <td>25</td>\n",
       "    </tr>\n",
       "    <tr>\n",
       "      <th>19</th>\n",
       "      <td>16.0</td>\n",
       "      <td>58454</td>\n",
       "      <td>2141543</td>\n",
       "      <td>25</td>\n",
       "    </tr>\n",
       "  </tbody>\n",
       "</table>\n",
       "</div>"
      ],
      "text/plain": [
       "    add_to_cart_order  user_id  order_id  order_number\n",
       "0                17.0    58454   2141543            25\n",
       "1                15.0    58454   2141543            25\n",
       "2                 9.0    58454   2141543            25\n",
       "3                20.0    58454   2141543            25\n",
       "4                 2.0    58454   2141543            25\n",
       "5                18.0    58454   2141543            25\n",
       "6                14.0    58454   2141543            25\n",
       "7                12.0    58454   2141543            25\n",
       "8                 8.0    58454   2141543            25\n",
       "9                 5.0    58454   2141543            25\n",
       "10                4.0    58454   2141543            25\n",
       "11               11.0    58454   2141543            25\n",
       "12               19.0    58454   2141543            25\n",
       "13                7.0    58454   2141543            25\n",
       "14                1.0    58454   2141543            25\n",
       "15                3.0    58454   2141543            25\n",
       "16                6.0    58454   2141543            25\n",
       "17               13.0    58454   2141543            25\n",
       "18               10.0    58454   2141543            25\n",
       "19               16.0    58454   2141543            25"
      ]
     },
     "execution_count": 50,
     "metadata": {},
     "output_type": "execute_result"
    }
   ],
   "source": [
    "filtered_quantity_per_order= quantity_per_order[['add_to_cart_order','user_id', 'order_id', 'order_number']] #Filtramos el nuevo DataFrame para que solo aparezcan las columnas que nos interesan.\n",
    "filtered_quantity_per_order.head(20) #Mostramos solo 20 lineas que equivalen a 1 pedido de 1 usuario en especifico en este caso el usuario '58454'"
   ]
  },
  {
   "cell_type": "code",
   "execution_count": 51,
   "id": "completed-frank",
   "metadata": {
    "id": "completed-frank"
   },
   "outputs": [
    {
     "name": "stdout",
     "output_type": "stream",
     "text": [
      "Cantidad media de articulos en cada pedido:  9\n"
     ]
    }
   ],
   "source": [
    "print('Cantidad media de articulos en cada pedido: ', round(quantity_per_order['add_to_cart_order'].mean())) #sacamos la media de articulos comprados por los clientes de la columna 'add_to_cart_order' y utilizamos el metodo (round()) simplemente para redondar la cantidad media de articulos por pedido."
   ]
  },
  {
   "cell_type": "markdown",
   "id": "designed-mortality",
   "metadata": {
    "id": "designed-mortality"
   },
   "source": [
    "Escribe aquí tus conclusiones\n",
    "\n",
    "Con nuestros datos obtenidos podemos evidenciar que la cantidad media de articulos comprados por los clientes es de 9 articulos por pedido. y la distribucion en la que se agrega cada articulo en el carrito de comprar es de 1 + 1 como lo podemos ver en el recuadro de arriba que va desde 1 hasta el 19. El cual el numero 19 es el total de articulos que ese usuario agrego a su carrito de compras para su pedido numero 25."
   ]
  },
  {
   "cell_type": "markdown",
   "id": "37a9963d",
   "metadata": {},
   "source": [
    "<div class=\"alert alert-block alert-success\">\n",
    "<b>Comentario del revisor 16/Abril</b> <a class=\"tocSkip\"></a><br />\n",
    "Correcto, los usuarios tienden a comprar menos de 10 productos\n",
    "</div>\n",
    "\n"
   ]
  },
  {
   "cell_type": "markdown",
   "id": "5e6b5537",
   "metadata": {
    "id": "5e6b5537"
   },
   "source": [
    "### [C2] ¿Cuáles son los 20 principales artículos que vuelven a pedirse con mayor frecuencia (muestra sus nombres e IDs de los productos)?"
   ]
  },
  {
   "cell_type": "code",
   "execution_count": 52,
   "id": "9374e55a",
   "metadata": {
    "id": "9374e55a"
   },
   "outputs": [],
   "source": [
    "quantity_of_products= df_orders_products.merge(df_products, on='product_id', how='outer') #Agrupamos los DataFrame 'df_orders_products', 'df_products' con el metodo 'merge()'."
   ]
  },
  {
   "cell_type": "code",
   "execution_count": 53,
   "id": "possible-change",
   "metadata": {
    "id": "possible-change",
    "scrolled": true
   },
   "outputs": [],
   "source": [
    "reordered = quantity_of_products[quantity_of_products['reordered']== 1] #Filtramos nuestro nuevo DataFrama para que solo nos nuestre los datos donde la columna ''reordered' es igual a 1. "
   ]
  },
  {
   "cell_type": "code",
   "execution_count": 54,
   "id": "professional-surfing",
   "metadata": {
    "id": "professional-surfing",
    "scrolled": true
   },
   "outputs": [],
   "source": [
    "group_reordered= reordered[['product_name', 'product_id']].value_counts() #Filtramos los datos para que solo nos muestre las columna que nos interesan y le aplicamos el metodo value_counts() para que nos agrupe los datos "
   ]
  },
  {
   "cell_type": "code",
   "execution_count": 55,
   "id": "48dd3658",
   "metadata": {
    "id": "48dd3658"
   },
   "outputs": [
    {
     "data": {
      "text/plain": [
       "product_name              product_id\n",
       "BANANA                    24852         55763\n",
       "BAG OF ORGANIC BANANAS    13176         44450\n",
       "ORGANIC STRAWBERRIES      21137         28639\n",
       "ORGANIC BABY SPINACH      21903         26233\n",
       "ORGANIC HASS AVOCADO      47209         23629\n",
       "ORGANIC AVOCADO           47766         18743\n",
       "ORGANIC WHOLE MILK        27845         16251\n",
       "LARGE LEMON               47626         15044\n",
       "ORGANIC RASPBERRIES       27966         14748\n",
       "STRAWBERRIES              16797         13945\n",
       "LIMES                     26209         13327\n",
       "ORGANIC YELLOW ONION      22935         11145\n",
       "ORGANIC GARLIC            24964         10411\n",
       "ORGANIC ZUCCHINI          45007         10076\n",
       "CUCUMBER KIRBY            49683          9538\n",
       "ORGANIC FUJI APPLE        28204          8989\n",
       "APPLE HONEYCRISP ORGANIC  8277           8836\n",
       "ORGANIC BLUEBERRIES       39275          8799\n",
       "ORGANIC LEMON             5876           8412\n",
       "ORGANIC HALF & HALF       49235          8389\n",
       "dtype: int64"
      ]
     },
     "execution_count": 55,
     "metadata": {},
     "output_type": "execute_result"
    }
   ],
   "source": [
    "group_reordered.head(20) #Mostramos solos los primeros 20 articulos que vuelven a pedir los clientes con el metodo head()."
   ]
  },
  {
   "cell_type": "markdown",
   "id": "80e70c74",
   "metadata": {
    "id": "80e70c74"
   },
   "source": [
    "Escribe aquí tus conclusiones\n",
    "\n",
    "Podemos observar nuevamente que los productos que se vuelven a comprar por los clientes son las bananas, algunas frutas y productos organicos."
   ]
  },
  {
   "cell_type": "markdown",
   "id": "038886f3",
   "metadata": {},
   "source": [
    "<div class=\"alert alert-block alert-success\">\n",
    "<b>Comentario del revisor</b> <a class=\"tocSkip\"></a><br />\n",
    "Correcto, nuevamente los productos orgnánicos estan en el top de la lista\n",
    "</div>\n"
   ]
  },
  {
   "cell_type": "markdown",
   "id": "9d312b14",
   "metadata": {
    "id": "9d312b14"
   },
   "source": [
    "### [C3] Para cada producto, ¿cuál es la proporción de las veces que se pide y que se vuelve a pedir?"
   ]
  },
  {
   "cell_type": "code",
   "execution_count": 56,
   "id": "8ae9f4b1",
   "metadata": {
    "id": "8ae9f4b1"
   },
   "outputs": [
    {
     "data": {
      "text/plain": [
       "33699"
      ]
     },
     "execution_count": 56,
     "metadata": {},
     "output_type": "execute_result"
    }
   ],
   "source": [
    "order_new= df_orders_products.merge(df_orders, on='order_id', how='outer') #Agrupamos los DataFrame 'df_orders_products', 'df_orders' con el metodo 'merge()'.\n",
    "first_product_order= order_new[(order_new['reordered'] == 0) & (order_new['user_id'].value_counts())].count() #Agrupamos los datos solo por los articulos que se han pedido por primera vez. Utilizamos el metodo value_counts() para agrupar los datos por los valores unicos de 'user_id'\n",
    "first_product_order['reordered']"
   ]
  },
  {
   "cell_type": "code",
   "execution_count": 57,
   "id": "103e7fe1",
   "metadata": {
    "id": "103e7fe1"
   },
   "outputs": [
    {
     "data": {
      "text/plain": [
       "49554"
      ]
     },
     "execution_count": 57,
     "metadata": {},
     "output_type": "execute_result"
    }
   ],
   "source": [
    "second_product_order= order_new[(order_new['reordered'] == 1) & (order_new['user_id'].value_counts())].count() #Agrupamos los datos solo por los articulos que ya se han pedido anteriormente. Utilizamos el metodo value_counts() para agrupar los datos por los valores unicos de 'user_id'\n",
    "second_product_order['reordered']"
   ]
  },
  {
   "cell_type": "code",
   "execution_count": 58,
   "id": "social-individual",
   "metadata": {
    "id": "social-individual"
   },
   "outputs": [
    {
     "name": "stdout",
     "output_type": "stream",
     "text": [
      "68.0 %\n"
     ]
    }
   ],
   "source": [
    "order_repetition_rate= (first_product_order['reordered']/second_product_order['reordered'])*100 #Calculamos la tasa de articulos que se han pedido y que se vuelven a pedir. \n",
    "print(round(order_repetition_rate, 2),'%') #imprimimos el resultado redondeando"
   ]
  },
  {
   "cell_type": "markdown",
   "id": "I10dEIAyldcO",
   "metadata": {
    "id": "I10dEIAyldcO"
   },
   "source": [
    "Escribe aquí tus conclusiones\n",
    "\n",
    "El 68% de los articulos se han vuelto a pedir por los usuarios."
   ]
  },
  {
   "cell_type": "markdown",
   "id": "84b6e68b",
   "metadata": {},
   "source": [
    "<div class=\"alert alert-block alert-success\">\n",
    "<b>Comentario del revisor</b> <a class=\"tocSkip\"></a><br />\n",
    "Aquí normalemente lo que se resuelve en este ejercicio es calcular la tasa de repetición de cada producto (calculada individualment), de cualquier manera me parece interesante la manera en que resolviste el ejercicio, bien hecho\n",
    "</div>\n"
   ]
  },
  {
   "cell_type": "markdown",
   "id": "subject-boxing",
   "metadata": {
    "id": "subject-boxing"
   },
   "source": [
    "### [C4] Para cada cliente, ¿qué proporción de sus productos ya los había pedido?"
   ]
  },
  {
   "cell_type": "code",
   "execution_count": 59,
   "id": "9725d016",
   "metadata": {},
   "outputs": [
    {
     "data": {
      "text/plain": [
       "49554"
      ]
     },
     "execution_count": 59,
     "metadata": {},
     "output_type": "execute_result"
    }
   ],
   "source": [
    "second_product_order_2= order_new[(order_new['reordered'] == 1) & (order_new['user_id'].value_counts())].count()  #Agrupamos los datos solo por los articulos que ya se han pedido anteriormente. Utilizamos el metodo value_counts() para agrupar los datos por los valores unicos de 'user_id'\n",
    "second_product_order_2['reordered']"
   ]
  },
  {
   "cell_type": "code",
   "execution_count": 60,
   "id": "medical-couple",
   "metadata": {
    "id": "medical-couple",
    "scrolled": true
   },
   "outputs": [
    {
     "data": {
      "text/plain": [
       "157437"
      ]
     },
     "execution_count": 60,
     "metadata": {},
     "output_type": "execute_result"
    }
   ],
   "source": [
    "total_users= order_new['user_id'].value_counts().count() #Selecionamos la columna 'user_id' la cual contiene el numero total de usuarios y le aplicamos el metodo 'value_counts()' para solo contabilice los valores unicos en la columna 'user_id' \n",
    "total_users"
   ]
  },
  {
   "cell_type": "code",
   "execution_count": 61,
   "id": "8892e4b4",
   "metadata": {
    "id": "8892e4b4"
   },
   "outputs": [
    {
     "name": "stdout",
     "output_type": "stream",
     "text": [
      "31.48 %\n"
     ]
    }
   ],
   "source": [
    "repetition_rate= (second_product_order_2['reordered']/total_users)*100 #Calculamos la tasa de articulos que ya se habian pedido por un cliente.\n",
    "print(round(repetition_rate, 2),'%')"
   ]
  },
  {
   "cell_type": "markdown",
   "id": "BgJSvXDsleXz",
   "metadata": {
    "id": "BgJSvXDsleXz"
   },
   "source": [
    "Escribe aquí tus conclusiones\n",
    "\n",
    "El 31.48% de los productos que pidió el cliente ya los había pedido en ordenes anteriores."
   ]
  },
  {
   "cell_type": "markdown",
   "id": "01031a6e",
   "metadata": {},
   "source": [
    "<div class=\"alert alert-block alert-success\">\n",
    "<b>Comentario del revisor</b> <a class=\"tocSkip\"></a><br />\n",
    "Correcto, la baja tasa de repetición se puede deber a que los usuarios han hecho pocas compras\n",
    "</div>\n"
   ]
  },
  {
   "cell_type": "markdown",
   "id": "92d35137",
   "metadata": {
    "id": "92d35137"
   },
   "source": [
    "### [C5] ¿Cuáles son los 20 principales artículos que las personas ponen primero en sus carritos?"
   ]
  },
  {
   "cell_type": "code",
   "execution_count": 62,
   "id": "0ae57274",
   "metadata": {
    "id": "0ae57274",
    "scrolled": true
   },
   "outputs": [],
   "source": [
    "quantity_main_articles= df_orders_products.merge(df_products, on='product_id', how='outer') #Agrupamos los DataFrame 'df_orders_products', 'df_products' con el metodo 'merge()'.\n",
    "main_articles= quantity_main_articles[quantity_main_articles['add_to_cart_order']== 1] #Filtramos el DataFrame para que solo nos muestre el primer articulo que cada cliente agrega a su carrito de compras."
   ]
  },
  {
   "cell_type": "code",
   "execution_count": 63,
   "id": "forty-netherlands",
   "metadata": {
    "id": "forty-netherlands",
    "scrolled": true
   },
   "outputs": [],
   "source": [
    "group_main_articles= main_articles[['product_name', 'product_id', 'add_to_cart_order']].value_counts() #Agrupamos el DataFrames para que solo nos muestre las columnas que nos interesan y utilizamos el metodo value_counts() para agrupe los datos por cada valor unico."
   ]
  },
  {
   "cell_type": "code",
   "execution_count": 64,
   "id": "08e41ec2",
   "metadata": {
    "id": "08e41ec2"
   },
   "outputs": [
    {
     "data": {
      "text/plain": [
       "product_name                 product_id  add_to_cart_order\n",
       "BANANA                       24852       1.0                  15562\n",
       "BAG OF ORGANIC BANANAS       13176       1.0                  11026\n",
       "ORGANIC WHOLE MILK           27845       1.0                   4363\n",
       "ORGANIC STRAWBERRIES         21137       1.0                   3946\n",
       "ORGANIC HASS AVOCADO         47209       1.0                   3390\n",
       "ORGANIC BABY SPINACH         21903       1.0                   3336\n",
       "ORGANIC AVOCADO              47766       1.0                   3044\n",
       "SPRING WATER                 19660       1.0                   2336\n",
       "STRAWBERRIES                 16797       1.0                   2308\n",
       "ORGANIC RASPBERRIES          27966       1.0                   2024\n",
       "SPARKLING WATER GRAPEFRUIT   44632       1.0                   1914\n",
       "ORGANIC HALF & HALF          49235       1.0                   1797\n",
       "LARGE LEMON                  47626       1.0                   1737\n",
       "SODA                         196         1.0                   1733\n",
       "ORGANIC REDUCED FAT MILK     38689       1.0                   1397\n",
       "LIMES                        26209       1.0                   1370\n",
       "HASS AVOCADOS                12341       1.0                   1340\n",
       "ORGANIC REDUCED FAT 2% MILK  5785        1.0                   1310\n",
       "HALF & HALF                  27086       1.0                   1309\n",
       "RASPBERRIES                  43352       1.0                   1246\n",
       "dtype: int64"
      ]
     },
     "execution_count": 64,
     "metadata": {},
     "output_type": "execute_result"
    }
   ],
   "source": [
    "group_main_articles.head(20) #Imprimimos los principales 20 articulos que las personas agregan a sus carritos de compras."
   ]
  },
  {
   "cell_type": "markdown",
   "id": "28ce9872",
   "metadata": {
    "id": "28ce9872"
   },
   "source": [
    "Escribe aquí tus conclusiones\n",
    "\n",
    "Como podemos observas las bananas siguen siendo el primer articulo preferido de los clientes, tambien varios productos organicos, otras frutas, Soda, HALF & HALF entre otros articulos."
   ]
  },
  {
   "cell_type": "markdown",
   "id": "9024eaee",
   "metadata": {},
   "source": [
    "<div class=\"alert alert-block alert-success\">\n",
    "<b>Comentario del revisor</b> <a class=\"tocSkip\"></a><br />\n",
    "Correcto, una vez más se comprueba que los productos orgánicos son los favoritos de los clientes.<br/>\n",
    "</div>\n"
   ]
  },
  {
   "cell_type": "markdown",
   "id": "uITbFCEoDosC",
   "metadata": {
    "id": "uITbFCEoDosC"
   },
   "source": [
    "### Conclusion general del proyecto:"
   ]
  },
  {
   "cell_type": "markdown",
   "id": "ad4e1df8",
   "metadata": {
    "id": "Nk-4GS7mDwqY"
   },
   "source": [
    "Luego de todos nuestros Analisis de los datos proporcionados por la empresa Instacart. Podemos concluir que:\n",
    "\n",
    "#### Las mejores horas de pedidos:\n",
    "\n",
    "Los pedidos de los usuarios se empiezan a generar desde las 7 de la mañana, Hasta las 20 horas (7 de la noche). el la cual podemos evidenciar que la mayor cantidad de pedidos es desde las 10 de la mañana hasta las 16 horas (4 de la tarde). Luego de las 4 de la tarde la cantidad de pedidos empieza a disminuir.\n",
    "\n",
    "#### ¿Que dias compran viveres los cliente?:\n",
    "\n",
    "la mayor cantidad de pedidos mas de 80.000 usuarios, se realizan los dias Domingos y le siguen los dias Lunes. Los demas dias de Miercoles a Sabado la cantidad de usuarios que realiza pedidos esta por debajo de los 70.000 usuarios.\n",
    "\n",
    "#### ¿Cual es la cantidad de tiempo esperan las personas hasta hacer otro pedido?:\n",
    "\n",
    "luego de la primera compra los clientes vuelven a comprar los 7 dias posteriores a su primera compra, evidenciandose una mayor cantidad de pedidos al 7mo dia, luego del dia numero 7 se puede evidenciar tambien una caida constante de pedidos en la App hasta el dia 29, luego de trancurrido esos 22 dias de bajos pedidos, podemos ver una gran cantidad de pedidos al dia 30 de mas de 50.000 clientes.\n",
    "\n",
    "#### Diferencia entre los dias miércoles y sábados:\n",
    "\n",
    "Las Diferencias que puedo notar es que hay mas pedidos los dias Sabados que los dias Miercoles, de igual manera los pedidos se empiezan a generar a partir de las 7 de la mañana siendo las 13 (1 de la tarde) y 14 (2 de la tarde) las horas con mayores pedidos del dia Sabado, en cambio las horas con mayores pedidos los dias domingo son entre las 10 y 11 de la mañana y luego a las 15 horas (3 de la tarde).\n",
    "\n",
    "#### ¿Cuál es la distribución para el número de pedidos por cliente?:\n",
    "\n",
    "Podemos evidenciar una decaidad en las ordenes de los clientes a partir de la 4ta orden, por lo que puede ser un indicio de que los clientes despues de su 4to pedido empiezan a dejar de comprar en la App, o puede ser tambien que los datos que tenemos la mayoria de los clientes son relativamente recientes, por lo cual se tendria que realizar un nuevo estudio mas adelante para ver si los datos han cambiado en la cantidad de pedidos de los clientes.\n",
    "\n",
    "####  los 20 productos más populares:\n",
    "\n",
    "Los 20 productos mas populares son: \n",
    "                            \n",
    "          product_id  Nombre del producto    Cantidad de pedidos            \n",
    "          \n",
    "          24852       BANANA                      66050\n",
    "          13176       BAG OF ORGANIC BANANAS      53297\n",
    "          21137       ORGANIC STRAWBERRIES        37039\n",
    "          21903       ORGANIC BABY SPINACH        33971\n",
    "          47209       ORGANIC HASS AVOCADO        29773\n",
    "          47766       ORGANIC AVOCADO             24689\n",
    "          47626       LARGE LEMON                 21495\n",
    "          16797       STRAWBERRIES                20018\n",
    "          26209       LIMES                       19690\n",
    "          27845       ORGANIC WHOLE MILK          19600\n",
    "          27966       ORGANIC RASPBERRIES         19197\n",
    "          22935       ORGANIC YELLOW ONION        15898\n",
    "          24964       ORGANIC GARLIC              15292\n",
    "          45007       ORGANIC ZUCCHINI            14584\n",
    "          39275       ORGANIC BLUEBERRIES         13879\n",
    "          49683       CUCUMBER KIRBY              13675\n",
    "          28204       ORGANIC FUJI APPLE          12544\n",
    "          5876        ORGANIC LEMON               12232\n",
    "          8277        APPLE HONEYCRISP ORGANIC    11993\n",
    "          40706       ORGANIC GRAPE TOMATOES      11781\n",
    "       \n",
    " #### ¿Cuántos artículos compran normalmente las personas en un pedido?:\n",
    " \n",
    " la cantidad media de articulos comprados por los clientes es de 9 articulos por pedido.\n",
    " \n",
    " ####  los 20 principales artículos que vuelven a pedirse con mayor frecuencia:\n",
    " \n",
    " Los 20 productos que vuelven a pedirse son:\n",
    " \n",
    "          Nombre del Producto     product_id    Cantidades que se vuelven a pedir\n",
    "         \n",
    "          BANANA                    24852         55763\n",
    "          BAG OF ORGANIC BANANAS    13176         44450\n",
    "          ORGANIC STRAWBERRIES      21137         28639\n",
    "          ORGANIC BABY SPINACH      21903         26233\n",
    "          ORGANIC HASS AVOCADO      47209         23629\n",
    "          ORGANIC AVOCADO           47766         18743\n",
    "          ORGANIC WHOLE MILK        27845         16251\n",
    "          LARGE LEMON               47626         15044\n",
    "          ORGANIC RASPBERRIES       27966         14748\n",
    "          STRAWBERRIES              16797         13945\n",
    "          LIMES                     26209         13327\n",
    "          ORGANIC YELLOW ONION      22935         11145\n",
    "          ORGANIC GARLIC            24964         10411\n",
    "          ORGANIC ZUCCHINI          45007         10076\n",
    "          CUCUMBER KIRBY            49683          9538\n",
    "          ORGANIC FUJI APPLE        28204          8989\n",
    "          APPLE HONEYCRISP ORGANIC  8277           8836\n",
    "          ORGANIC BLUEBERRIES       39275          8799\n",
    "          ORGANIC LEMON             5876           8412\n",
    "          ORGANIC HALF & HALF       49235          8389\n",
    "          \n",
    "\n",
    "#### Para cada producto, ¿cuál es la proporción de las veces que se pide y que se vuelve a pedir?:\n",
    "\n",
    "Luego de nuestros analisis llegamos a la conclusion de que el 68% de los articulos se han vuelto a pedir por los usuarios.\n",
    "\n",
    "\n",
    "#### Para cada cliente, ¿qué proporción de sus productos ya los había pedido?:\n",
    "\n",
    "Luego de nuestros analisis llegamos a la conclusion de que el 31.48% de los productos que vuelven a pedir los clientes ya los había pedido en ordenes anteriores.\n",
    "\n",
    "\n",
    "#### ¿Cuáles son los 20 principales artículos que las personas ponen primero en sus carritos?:\n",
    "\n",
    "Los 20 articulos que los clientes agregan de primero en sus carritos de compras son:\n",
    "\n",
    "          Nombre del producto          product_id      Carrito de Compras      Cantidad/Agrego\n",
    "            \n",
    "            BANANA                       24852                1.0                  15562\n",
    "            BAG OF ORGANIC BANANAS       13176                1.0                  11026\n",
    "            ORGANIC WHOLE MILK           27845                1.0                   4363\n",
    "            ORGANIC STRAWBERRIES         21137                1.0                   3946\n",
    "            ORGANIC HASS AVOCADO         47209                1.0                   3390\n",
    "            ORGANIC BABY SPINACH         21903                1.0                   3336\n",
    "            ORGANIC AVOCADO              47766                1.0                   3044\n",
    "            SPRING WATER                 19660                1.0                   2336\n",
    "            STRAWBERRIES                 16797                1.0                   2308\n",
    "            ORGANIC RASPBERRIES          27966                1.0                   2024\n",
    "            SPARKLING WATER GRAPEFRUIT   44632                1.0                   1914\n",
    "            ORGANIC HALF & HALF          49235                1.0                   1797\n",
    "            LARGE LEMON                  47626                1.0                   1737\n",
    "            SODA                         196                  1.0                   1733\n",
    "            ORGANIC REDUCED FAT MILK     38689                1.0                   1397\n",
    "            LIMES                        26209                1.0                   1370\n",
    "            HASS AVOCADOS                12341                1.0                   1340\n",
    "            ORGANIC REDUCED FAT 2% MILK  5785                 1.0                   1310\n",
    "            HALF & HALF                  27086                1.0                   1309\n",
    "            RASPBERRIES                  43352                1.0                   1246"
   ]
  },
  {
   "cell_type": "markdown",
   "id": "1832238d",
   "metadata": {},
   "source": [
    "<div class=\"alert alert-block alert-success\">\n",
    "<b>Comentario del revisor</b> <a class=\"tocSkip\"></a><br />\n",
    "Has realizado un gran trabajo, me doy cuenta de que has aplicado los conocimientos que has adquirido durante el curso, las conclusiones a las que llegaste son buenas y los procedimientos realizados son correctos, este es un ejercicio que se asemeja bastante a algunas tareas reales que se hacen en las empresas, estos análisis son muy útiles para crear nuevas estrategias de marketing o para hacer los procesos en el almacén más eficientes.\n",
    "    \n",
    "    \n",
    "Te felicito por haber mostrado los resultados en esta última sección de 'conclusiones', poner un resumen de esta manera es algo que se aprecia mucho, personalmente pienso que hacer el código es solo la mitad del trabajo, la otra mitad que es igual de importante es saber mostrar los resultados y que las demás personas (sobre todo las que no tienen conocimientos tecnicos) puedan entender e interpretar los resultados.<br/>\n",
    "    \n",
    "    \n",
    "Continúa con el buen trabajo y mucho éxito en el siguiente Sprint!\n",
    "\n",
    "\n",
    "</div>\n"
   ]
  }
 ],
 "metadata": {
  "colab": {
   "provenance": []
  },
  "kernelspec": {
   "display_name": "Python 3 (ipykernel)",
   "language": "python",
   "name": "python3"
  },
  "language_info": {
   "codemirror_mode": {
    "name": "ipython",
    "version": 3
   },
   "file_extension": ".py",
   "mimetype": "text/x-python",
   "name": "python",
   "nbconvert_exporter": "python",
   "pygments_lexer": "ipython3",
   "version": "3.9.19"
  },
  "toc": {
   "base_numbering": 1,
   "nav_menu": {},
   "number_sections": true,
   "sideBar": true,
   "skip_h1_title": true,
   "title_cell": "Table of Contents",
   "title_sidebar": "Contents",
   "toc_cell": false,
   "toc_position": {},
   "toc_section_display": true,
   "toc_window_display": false
  },
  "vscode": {
   "interpreter": {
    "hash": "01a7be9ec63e704a62cefc5fe7a4756944464ee731be31632bdf42a4cb4688cf"
   }
  }
 },
 "nbformat": 4,
 "nbformat_minor": 5
}
